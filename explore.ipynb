{
 "cells": [
  {
   "cell_type": "code",
   "execution_count": 1,
   "id": "442366ba-5b7a-4db3-a700-d50f65460bee",
   "metadata": {},
   "outputs": [],
   "source": [
    "import re\n",
    "\n",
    "import pandas as pd\n",
    "import matplotlib.pyplot as plt\n",
    "import seaborn as sns\n",
    "from scipy import stats\n",
    "\n",
    "import nltk\n",
    "from wordcloud import WordCloud\n",
    "\n",
    "from acquire import get_codeup_blog, get_inshorts_articles\n",
    "from prepare import *\n",
    "from get_db_url import get_db_url"
   ]
  },
  {
   "cell_type": "markdown",
   "id": "0d62da1f-e92e-43d3-9ba9-a862ddfc0622",
   "metadata": {},
   "source": [
    "# Data Exploration Exercises\n",
    "\n",
    "## 1\n",
    "\n",
    "Spam Data\n",
    "\n",
    "### Load the spam data set."
   ]
  },
  {
   "cell_type": "code",
   "execution_count": 2,
   "id": "46137f48-053c-49bc-96aa-b19127760423",
   "metadata": {},
   "outputs": [
    {
     "name": "stdout",
     "output_type": "stream",
     "text": [
      "<class 'pandas.core.frame.DataFrame'>\n",
      "RangeIndex: 5572 entries, 0 to 5571\n",
      "Data columns (total 3 columns):\n",
      " #   Column  Non-Null Count  Dtype \n",
      "---  ------  --------------  ----- \n",
      " 0   id      5572 non-null   int64 \n",
      " 1   label   5572 non-null   object\n",
      " 2   text    5572 non-null   object\n",
      "dtypes: int64(1), object(2)\n",
      "memory usage: 130.7+ KB\n"
     ]
    }
   ],
   "source": [
    "# Get all the data from the spam database\n",
    "df = pd.read_sql('SELECT * FROM spam;', get_db_url('spam_db'))\n",
    "df.info()"
   ]
  },
  {
   "cell_type": "code",
   "execution_count": 3,
   "id": "97a19a04-a1a5-4399-a67d-f333859bef46",
   "metadata": {},
   "outputs": [
    {
     "data": {
      "text/html": [
       "<div>\n",
       "<style scoped>\n",
       "    .dataframe tbody tr th:only-of-type {\n",
       "        vertical-align: middle;\n",
       "    }\n",
       "\n",
       "    .dataframe tbody tr th {\n",
       "        vertical-align: top;\n",
       "    }\n",
       "\n",
       "    .dataframe thead th {\n",
       "        text-align: right;\n",
       "    }\n",
       "</style>\n",
       "<table border=\"1\" class=\"dataframe\">\n",
       "  <thead>\n",
       "    <tr style=\"text-align: right;\">\n",
       "      <th></th>\n",
       "      <th>id</th>\n",
       "      <th>label</th>\n",
       "      <th>text</th>\n",
       "    </tr>\n",
       "  </thead>\n",
       "  <tbody>\n",
       "    <tr>\n",
       "      <th>0</th>\n",
       "      <td>0</td>\n",
       "      <td>ham</td>\n",
       "      <td>Go until jurong point, crazy.. Available only ...</td>\n",
       "    </tr>\n",
       "    <tr>\n",
       "      <th>1</th>\n",
       "      <td>1</td>\n",
       "      <td>ham</td>\n",
       "      <td>Ok lar... Joking wif u oni...</td>\n",
       "    </tr>\n",
       "    <tr>\n",
       "      <th>2</th>\n",
       "      <td>2</td>\n",
       "      <td>spam</td>\n",
       "      <td>Free entry in 2 a wkly comp to win FA Cup fina...</td>\n",
       "    </tr>\n",
       "    <tr>\n",
       "      <th>3</th>\n",
       "      <td>3</td>\n",
       "      <td>ham</td>\n",
       "      <td>U dun say so early hor... U c already then say...</td>\n",
       "    </tr>\n",
       "    <tr>\n",
       "      <th>4</th>\n",
       "      <td>4</td>\n",
       "      <td>ham</td>\n",
       "      <td>Nah I don't think he goes to usf, he lives aro...</td>\n",
       "    </tr>\n",
       "  </tbody>\n",
       "</table>\n",
       "</div>"
      ],
      "text/plain": [
       "   id label                                               text\n",
       "0   0   ham  Go until jurong point, crazy.. Available only ...\n",
       "1   1   ham                      Ok lar... Joking wif u oni...\n",
       "2   2  spam  Free entry in 2 a wkly comp to win FA Cup fina...\n",
       "3   3   ham  U dun say so early hor... U c already then say...\n",
       "4   4   ham  Nah I don't think he goes to usf, he lives aro..."
      ]
     },
     "execution_count": 3,
     "metadata": {},
     "output_type": "execute_result"
    }
   ],
   "source": [
    "df.head()"
   ]
  },
  {
   "cell_type": "markdown",
   "id": "63700489-98db-4bbe-911c-0267bf6f889c",
   "metadata": {},
   "source": [
    "### Create and explore bigrams\n",
    "\n",
    "- Create and explore bigrams for the spam data. Visualize them with a word cloud. How do they compare with the ham bigrams?"
   ]
  },
  {
   "cell_type": "code",
   "execution_count": 4,
   "id": "c64c077e-627c-49cf-8bf1-79650441561d",
   "metadata": {},
   "outputs": [],
   "source": [
    "# Perform basic cleaning on the messages\n",
    "df.text = df.text.apply(basic_clean)"
   ]
  },
  {
   "cell_type": "code",
   "execution_count": 5,
   "id": "c901ca78-40a6-4dae-87df-d55b6299964a",
   "metadata": {},
   "outputs": [],
   "source": [
    "# combine ham, spam, and all messages into single strings\n",
    "spam_words = ' '.join(df[df.label == 'spam'].text)\n",
    "ham_words = ' '.join(df[df.label == 'ham'].text)\n",
    "all_words = ' '.join(df.text)"
   ]
  },
  {
   "cell_type": "code",
   "execution_count": 6,
   "id": "1ff5f847-4636-4202-9350-bae1bcf21748",
   "metadata": {},
   "outputs": [
    {
     "data": {
      "text/plain": [
       "(you, have)           73\n",
       "(have, won)           54\n",
       "(your, mobile)        49\n",
       "(to, claim)           46\n",
       "(please, call)        44\n",
       "(won, a)              40\n",
       "(this, is)            40\n",
       "(to, contact)         37\n",
       "(you, are)            35\n",
       "(stop, to)            28\n",
       "(u, have)             27\n",
       "(cash, or)            27\n",
       "(will, be)            25\n",
       "(or, a)               25\n",
       "(a, a2000)            25\n",
       "(po, box)             24\n",
       "(contact, u)          24\n",
       "(guaranteed, call)    23\n",
       "(a1000, cash)         23\n",
       "(to, receive)         23\n",
       "dtype: int64"
      ]
     },
     "execution_count": 6,
     "metadata": {},
     "output_type": "execute_result"
    }
   ],
   "source": [
    "# generate spam words bigrams\n",
    "spam_bigrams = pd.Series(nltk.bigrams(spam_words.split()))\n",
    "spam_bigrams.value_counts().head(20)"
   ]
  },
  {
   "cell_type": "code",
   "execution_count": 53,
   "id": "af5bb885-1823-489c-bb33-cd9ddb057235",
   "metadata": {},
   "outputs": [],
   "source": [
    "# Create dictionary from spam_bigrams\n",
    "frequencies = {key[0] + ' ' + key[1] : value for key, value in spam_bigrams.value_counts().to_dict().items()}"
   ]
  },
  {
   "cell_type": "code",
   "execution_count": 54,
   "id": "0eaf08df-2e17-4c31-953c-e583deb46555",
   "metadata": {},
   "outputs": [
    {
     "data": {
      "image/png": "[encoded data removed]",
      "text/plain": [
       "<Figure size 432x288 with 1 Axes>"
      ]
     },
     "metadata": {
      "needs_background": "light"
     },
     "output_type": "display_data"
    }
   ],
   "source": [
    "# Create a wordcloud of the spam bigrams\n",
    "\n",
    "img = WordCloud(\n",
    "    background_color = 'white',\n",
    "    width = 800,\n",
    "    height = 600\n",
    ").generate_from_frequencies(frequencies)\n",
    "plt.imshow(img)\n",
    "plt.axis('off');"
   ]
  },
  {
   "cell_type": "code",
   "execution_count": 8,
   "id": "7b50108a-e32e-4879-bf4e-92b8ba253274",
   "metadata": {},
   "outputs": [
    {
     "data": {
      "text/plain": [
       "(are, you)     173\n",
       "(i, am)        132\n",
       "(have, a)      110\n",
       "(i, will)       98\n",
       "(do, you)       91\n",
       "(you, are)      91\n",
       "(in, the)       86\n",
       "(i, have)       83\n",
       "(if, you)       83\n",
       "(want, to)      79\n",
       "(going, to)     76\n",
       "(i, was)        74\n",
       "(in, a)         73\n",
       "(and, i)        71\n",
       "(i, can)        71\n",
       "(but, i)        70\n",
       "(have, to)      70\n",
       "(to, be)        66\n",
       "(to, get)       65\n",
       "(on, the)       61\n",
       "dtype: int64"
      ]
     },
     "execution_count": 8,
     "metadata": {},
     "output_type": "execute_result"
    }
   ],
   "source": [
    "# generate ham words bigrams\n",
    "ham_bigrams = pd.Series(nltk.bigrams(ham_words.split()))\n",
    "ham_bigrams.value_counts().head(20)"
   ]
  },
  {
   "cell_type": "code",
   "execution_count": 49,
   "id": "71dc7e8c-5ea7-4d6c-9990-9380203cebfc",
   "metadata": {},
   "outputs": [],
   "source": [
    "# Create dictionary from ham_bigrams\n",
    "frequencies = {key[0] + ' ' + key[1] : value for key, value in ham_bigrams.value_counts().to_dict().items()}"
   ]
  },
  {
   "cell_type": "code",
   "execution_count": null,
   "id": "979870e9-a2e1-4935-a983-384d474e478c",
   "metadata": {},
   "outputs": [
    {
     "data": {
      "image/png": "[encoded data removed]",
      "text/plain": [
       "<Figure size 432x288 with 1 Axes>"
      ]
     },
     "metadata": {
      "needs_background": "light"
     },
     "output_type": "display_data"
    }
   ],
   "source": [
    "# Create a wordcloud of the ham bigrams\n",
    "\n",
    "img = WordCloud(\n",
    "    background_color = 'white',\n",
    "    width = 800,\n",
    "    height = 600\n",
    ").generate_from_frequencies(frequencies)\n",
    "plt.imshow(img)\n",
    "plt.axis('off');"
   ]
  },
  {
   "cell_type": "markdown",
   "id": "908d4db8-31d9-4ed8-955b-c6cc14f8a29e",
   "metadata": {},
   "source": [
    "The ham bigrams often have the word I in them where as the spam bigrams often have the words you and won."
   ]
  },
  {
   "cell_type": "markdown",
   "id": "222e1e53-b704-41dd-987e-e20f2edb3fcd",
   "metadata": {},
   "source": [
    "### Overlap in bigrams\n",
    "\n",
    "- Is there any overlap in the bigrams for the spam data and the ham data?"
   ]
  },
  {
   "cell_type": "code",
   "execution_count": 10,
   "id": "caec42ac-91e6-4200-97fe-adeab4f5238e",
   "metadata": {},
   "outputs": [
    {
     "data": {
      "text/plain": [
       "((17593,), (67534,))"
      ]
     },
     "execution_count": 10,
     "metadata": {},
     "output_type": "execute_result"
    }
   ],
   "source": [
    "spam_bigrams.shape, ham_bigrams.shape"
   ]
  },
  {
   "cell_type": "code",
   "execution_count": 11,
   "id": "e1631fa2-3e92-4488-9bba-38ea732c848b",
   "metadata": {},
   "outputs": [
    {
     "data": {
      "text/plain": [
       "(3283,)"
      ]
     },
     "execution_count": 11,
     "metadata": {},
     "output_type": "execute_result"
    }
   ],
   "source": [
    "# Let's see all spam_bigrams that are also in ham_bigrams\n",
    "spam_bigrams[spam_bigrams.isin(ham_bigrams)].shape"
   ]
  },
  {
   "cell_type": "code",
   "execution_count": 12,
   "id": "e004ab7b-24a4-4d72-a70f-17c6ca581ff9",
   "metadata": {},
   "outputs": [
    {
     "data": {
      "text/plain": [
       "(you, have)       73\n",
       "(please, call)    44\n",
       "(this, is)        40\n",
       "(to, contact)     37\n",
       "(you, are)        35\n",
       "(u, have)         27\n",
       "(will, be)        25\n",
       "(or, a)           25\n",
       "(po, box)         24\n",
       "(with, a)         22\n",
       "(for, your)       22\n",
       "(have, a)         21\n",
       "(a, new)          21\n",
       "(contact, you)    20\n",
       "(go, to)          19\n",
       "(every, week)     19\n",
       "(out, who)        18\n",
       "(call, now)       18\n",
       "(to, win)         18\n",
       "(find, out)       18\n",
       "dtype: int64"
      ]
     },
     "execution_count": 12,
     "metadata": {},
     "output_type": "execute_result"
    }
   ],
   "source": [
    "spam_bigrams[spam_bigrams.isin(ham_bigrams)].value_counts().head(20)"
   ]
  },
  {
   "cell_type": "markdown",
   "id": "ea6d3a0b-c35b-49f5-9e59-2b1bdb9227be",
   "metadata": {},
   "source": [
    "There are some spam bigrams that also appear in ham bigrams including the most frequent spam bigram."
   ]
  },
  {
   "cell_type": "markdown",
   "id": "be96db3a-b130-4a71-b764-69853c407ff5",
   "metadata": {},
   "source": [
    "### Trigrams\n",
    "\n",
    "- Create and explore with trigrams (i.e. a n-gram with an n of 3) for both the spam and ham data."
   ]
  },
  {
   "cell_type": "code",
   "execution_count": 13,
   "id": "0fe3de3e-7bb2-486b-b8ed-15c634be80e9",
   "metadata": {},
   "outputs": [
    {
     "data": {
      "text/plain": [
       "(you, have, won)             37\n",
       "(have, won, a)               33\n",
       "(prize, guaranteed, call)    21\n",
       "(a1000, cash, or)            19\n",
       "(urgent, your, mobile)       18\n",
       "(to, contact, u)             18\n",
       "(account, statement, for)    16\n",
       "(from, land, line)           16\n",
       "(valid, 12hrs, only)         16\n",
       "(to, contact, you)           16\n",
       "(is, the, 2nd)               15\n",
       "(this, is, the)              15\n",
       "(trying, to, contact)        15\n",
       "(cash, or, a)                15\n",
       "(we, are, trying)            14\n",
       "(2nd, attempt, to)           14\n",
       "(draw, shows, that)          14\n",
       "(land, line, claim)          14\n",
       "(reply, or, call)            14\n",
       "(are, trying, to)            14\n",
       "dtype: int64"
      ]
     },
     "execution_count": 13,
     "metadata": {},
     "output_type": "execute_result"
    }
   ],
   "source": [
    "# generate spam words trigrams\n",
    "spam_trigrams = pd.Series(nltk.ngrams(spam_words.split(), 3))\n",
    "spam_trigrams.value_counts().head(20)"
   ]
  },
  {
   "cell_type": "code",
   "execution_count": 14,
   "id": "452c8302-8ebb-459e-9af3-a563fc75978c",
   "metadata": {},
   "outputs": [
    {
     "data": {
      "text/plain": [
       "(i'll, call, later)    39\n",
       "(sorry, i'll, call)    38\n",
       "(how, are, you)        35\n",
       "(i, want, to)          29\n",
       "(let, me, know)        26\n",
       "(have, a, great)       25\n",
       "(i, miss, you)         24\n",
       "(i, love, you)         23\n",
       "(hope, you, are)       20\n",
       "(i, have, to)          20\n",
       "(give, me, a)          19\n",
       "(happy, new, year)     18\n",
       "(a, great, day)        17\n",
       "(do, have, a)          17\n",
       "(where, are, you)      16\n",
       "(i, am, in)            16\n",
       "(are, you, doing)      16\n",
       "(what, are, you)       16\n",
       "(on, the, way)         16\n",
       "(you, want, to)        16\n",
       "dtype: int64"
      ]
     },
     "execution_count": 14,
     "metadata": {},
     "output_type": "execute_result"
    }
   ],
   "source": [
    "# generate ham words trigrams\n",
    "ham_trigrams = pd.Series(nltk.ngrams(ham_words.split(), 3))\n",
    "ham_trigrams.value_counts().head(20)"
   ]
  },
  {
   "cell_type": "code",
   "execution_count": 15,
   "id": "8ec5e098-c91e-444a-ba29-1b4053321c6a",
   "metadata": {},
   "outputs": [
    {
     "data": {
      "text/plain": [
       "(399,)"
      ]
     },
     "execution_count": 15,
     "metadata": {},
     "output_type": "execute_result"
    }
   ],
   "source": [
    "# Let's see if any spam trigrams also appear in the ham trigrams\n",
    "spam_trigrams[spam_trigrams.isin(ham_trigrams)].shape"
   ]
  },
  {
   "cell_type": "code",
   "execution_count": 16,
   "id": "f6fcbd67-4ef3-4702-9563-f2cb27a42aa2",
   "metadata": {},
   "outputs": [
    {
     "data": {
      "text/plain": [
       "(to, contact, you)     16\n",
       "(this, is, the)        15\n",
       "(are, trying, to)      14\n",
       "(that, you, have)      12\n",
       "(do, you, want)        11\n",
       "(find, out, who)       10\n",
       "(waiting, for, you)    10\n",
       "(you, have, been)      10\n",
       "(thanks, for, your)     8\n",
       "(u, have, a)            8\n",
       "(to, find, out)         8\n",
       "(you, to, be)           6\n",
       "(call, from, a)         6\n",
       "(you, are, a)           6\n",
       "(if, you, have)         5\n",
       "(to, be, her)           5\n",
       "(you, have, a)          5\n",
       "(all, will, be)         5\n",
       "(there, is, an)         5\n",
       "(from, a, landline)     4\n",
       "dtype: int64"
      ]
     },
     "execution_count": 16,
     "metadata": {},
     "output_type": "execute_result"
    }
   ],
   "source": [
    "spam_trigrams[spam_trigrams.isin(ham_trigrams)].value_counts().head(20)"
   ]
  },
  {
   "cell_type": "markdown",
   "id": "767d3ae3-c60b-4803-8de8-cddade508119",
   "metadata": {},
   "source": [
    "## 2\n",
    "\n",
    "Explore the blog articles using the techniques discussed in the exploration lesson.\n",
    "\n",
    "### Acquire and Prepare"
   ]
  },
  {
   "cell_type": "code",
   "execution_count": 17,
   "id": "dda9a127-1043-41cb-a0df-470f9c75098c",
   "metadata": {},
   "outputs": [
    {
     "name": "stdout",
     "output_type": "stream",
     "text": [
      "<class 'pandas.core.frame.DataFrame'>\n",
      "RangeIndex: 220 entries, 0 to 219\n",
      "Data columns (total 3 columns):\n",
      " #   Column   Non-Null Count  Dtype \n",
      "---  ------   --------------  ----- \n",
      " 0   title    220 non-null    object\n",
      " 1   date     220 non-null    object\n",
      " 2   content  218 non-null    object\n",
      "dtypes: object(3)\n",
      "memory usage: 5.3+ KB\n"
     ]
    }
   ],
   "source": [
    "codeup_df = get_codeup_blog()\n",
    "codeup_df.info()"
   ]
  },
  {
   "cell_type": "code",
   "execution_count": 18,
   "id": "5fa4e366-a2b3-40bc-8cac-2710add97f13",
   "metadata": {},
   "outputs": [],
   "source": [
    "codeup_df = prepare_article_data(codeup_df)"
   ]
  },
  {
   "cell_type": "markdown",
   "id": "9ffd36c1-2126-475a-aeb9-1fff9ab817c3",
   "metadata": {},
   "source": [
    "### Explore Word Frequencies and n-grams"
   ]
  },
  {
   "cell_type": "code",
   "execution_count": 19,
   "id": "b8a4922e-b6b7-4428-9eba-2ae475e8b3d7",
   "metadata": {},
   "outputs": [],
   "source": [
    "# create a string of all the words in each article using the basic cleaned version of each article\n",
    "words = ' '.join(codeup_df.basic_clean)"
   ]
  },
  {
   "cell_type": "code",
   "execution_count": 20,
   "id": "9f700632-d265-4c46-a1e3-2e6909a9df35",
   "metadata": {},
   "outputs": [
    {
     "data": {
      "text/plain": [
       "the       4023\n",
       "to        4005\n",
       "and       3445\n",
       "a         3233\n",
       "of        2344\n",
       "in        1981\n",
       "you       1742\n",
       "for       1399\n",
       "i         1328\n",
       "is        1294\n",
       "that      1261\n",
       "with       988\n",
       "codeup     814\n",
       "your       792\n",
       "it         788\n",
       "are        780\n",
       "on         766\n",
       "our        734\n",
       "we         726\n",
       "as         689\n",
       "dtype: int64"
      ]
     },
     "execution_count": 20,
     "metadata": {},
     "output_type": "execute_result"
    }
   ],
   "source": [
    "pd.Series(words.split()).value_counts().head(20)"
   ]
  },
  {
   "cell_type": "code",
   "execution_count": 21,
   "id": "ab4d1193-0d97-4947-8340-bcf842395170",
   "metadata": {},
   "outputs": [
    {
     "data": {
      "text/plain": [
       "(in, the)          366\n",
       "(of, the)          331\n",
       "(data, science)    239\n",
       "(as, a)            208\n",
       "(to, be)           190\n",
       "(i, was)           170\n",
       "(san, antonio)     166\n",
       "(is, a)            165\n",
       "(to, learn)        159\n",
       "(in, a)            147\n",
       "(to, the)          146\n",
       "(want, to)         144\n",
       "(on, the)          136\n",
       "(for, the)         133\n",
       "(how, to)          133\n",
       "(with, a)          131\n",
       "(if, you)          129\n",
       "(you, can)         128\n",
       "(with, the)        119\n",
       "(and, the)         110\n",
       "dtype: int64"
      ]
     },
     "execution_count": 21,
     "metadata": {},
     "output_type": "execute_result"
    }
   ],
   "source": [
    "# create bigrams\n",
    "codeup_df_bigrams = pd.Series(nltk.bigrams(words.split()))\n",
    "codeup_df_bigrams.value_counts().head(20)"
   ]
  },
  {
   "cell_type": "markdown",
   "id": "61118865-cac1-4691-bf6b-f26f11114d7e",
   "metadata": {},
   "source": [
    "The stopwords are getting in the way of allowing us to gather any real insights. Let's use the fully cleaned articles instead."
   ]
  },
  {
   "cell_type": "code",
   "execution_count": 22,
   "id": "56891e5d-6e8e-4576-a082-46e185f1343f",
   "metadata": {},
   "outputs": [],
   "source": [
    "words = ' '.join(codeup_df.clean)"
   ]
  },
  {
   "cell_type": "code",
   "execution_count": 23,
   "id": "eb9a1625-7500-4003-8e45-ddc264773cc9",
   "metadata": {},
   "outputs": [
    {
     "data": {
      "text/plain": [
       "(data, science)            239\n",
       "(san, antonio)             166\n",
       "(web, development)          88\n",
       "(data, scientist)           65\n",
       "(software, developer)       54\n",
       "(machine, learning)         47\n",
       "(data, scientists)          47\n",
       "(make, sure)                46\n",
       "(coding, bootcamp)          45\n",
       "(software, development)     38\n",
       "(tech, industry)            37\n",
       "(web, developer)            36\n",
       "(full, stack)               32\n",
       "(computer, science)         31\n",
       "(career, accelerator)       30\n",
       "(software, developers)      29\n",
       "(get, job)                  26\n",
       "(job, search)               24\n",
       "(every, day)                24\n",
       "(financial, aid)            24\n",
       "dtype: int64"
      ]
     },
     "execution_count": 23,
     "metadata": {},
     "output_type": "execute_result"
    }
   ],
   "source": [
    "# Let's try creating bigrams again\n",
    "codeup_df_bigrams = pd.Series(nltk.bigrams(words.split()))\n",
    "codeup_df_bigrams.value_counts().head(20)"
   ]
  },
  {
   "cell_type": "markdown",
   "id": "171f16b3-374f-4a02-b533-1270e43aa7cb",
   "metadata": {},
   "source": [
    "That's better. We see a lot of what we might expect from Codeup blog articles which is tech related terminology."
   ]
  },
  {
   "cell_type": "code",
   "execution_count": 24,
   "id": "aa534fa6-3b87-4d4e-a732-1a43da559247",
   "metadata": {},
   "outputs": [
    {
     "data": {
      "text/plain": [
       "(data, science, program)            18\n",
       "(web, development, program)         17\n",
       "(full, stack, web)                  13\n",
       "(hired, accenture, federal)         13\n",
       "(codeup, data, science)             12\n",
       "(give, us, call)                    12\n",
       "(stack, web, development)           12\n",
       "(fullstack, web, development)       12\n",
       "(career, data, science)             11\n",
       "(accenture, federal, software)      10\n",
       "(data, science, career)             10\n",
       "(hired, cgi, java)                  10\n",
       "(federal, software, engineering)    10\n",
       "(codeup, success, story)             9\n",
       "(tech, job, fair)                    9\n",
       "(data, science, pipeline)            9\n",
       "(empowering, life, change)           8\n",
       "(empower, life, change)              8\n",
       "(san, antonio, tech)                 8\n",
       "(san, antonio, tx)                   7\n",
       "dtype: int64"
      ]
     },
     "execution_count": 24,
     "metadata": {},
     "output_type": "execute_result"
    }
   ],
   "source": [
    "# Let's try trigrams\n",
    "codeup_df_trigrams = pd.Series(nltk.ngrams(words.split(), 3))\n",
    "codeup_df_trigrams.value_counts().head(20)"
   ]
  },
  {
   "cell_type": "markdown",
   "id": "7e95bc8f-6248-4813-8039-9a8156e64d54",
   "metadata": {},
   "source": [
    "Now we can see a little about the companies that typically hire Codeup graduates."
   ]
  },
  {
   "cell_type": "markdown",
   "id": "dfc3294f-9e5a-41a8-8831-d83486ddd52d",
   "metadata": {},
   "source": [
    "### Feature Engineering"
   ]
  },
  {
   "cell_type": "code",
   "execution_count": 27,
   "id": "95ce6027-43c5-4bfc-a1a4-4200105d9816",
   "metadata": {},
   "outputs": [],
   "source": [
    "# Let's create features for character count, word count, sentence count, and stopword count\n",
    "\n",
    "codeup_df['character_count'] = codeup_df.original.apply(len)\n",
    "codeup_df['word_count'] = codeup_df.basic_clean.apply(lambda text: len(text.split()))\n",
    "codeup_df['sentence_count'] = codeup_df.original.apply(lambda text: len(re.split(r'[\\.!\\?]', text)))\n",
    "codeup_df['stopword_count'] = codeup_df.basic_clean.apply(lambda text: len(text.split())) - codeup_df.clean.apply(lambda text: len(text.split()))"
   ]
  },
  {
   "cell_type": "code",
   "execution_count": 28,
   "id": "962e13f1-001a-4d58-9a64-fd094b0880f1",
   "metadata": {},
   "outputs": [
    {
     "data": {
      "text/html": [
       "<div>\n",
       "<style scoped>\n",
       "    .dataframe tbody tr th:only-of-type {\n",
       "        vertical-align: middle;\n",
       "    }\n",
       "\n",
       "    .dataframe tbody tr th {\n",
       "        vertical-align: top;\n",
       "    }\n",
       "\n",
       "    .dataframe thead th {\n",
       "        text-align: right;\n",
       "    }\n",
       "</style>\n",
       "<table border=\"1\" class=\"dataframe\">\n",
       "  <thead>\n",
       "    <tr style=\"text-align: right;\">\n",
       "      <th></th>\n",
       "      <th>character_count</th>\n",
       "      <th>word_count</th>\n",
       "      <th>sentence_count</th>\n",
       "      <th>stopword_count</th>\n",
       "    </tr>\n",
       "  </thead>\n",
       "  <tbody>\n",
       "    <tr>\n",
       "      <th>0</th>\n",
       "      <td>2743</td>\n",
       "      <td>440</td>\n",
       "      <td>24</td>\n",
       "      <td>173</td>\n",
       "    </tr>\n",
       "    <tr>\n",
       "      <th>1</th>\n",
       "      <td>2176</td>\n",
       "      <td>362</td>\n",
       "      <td>25</td>\n",
       "      <td>160</td>\n",
       "    </tr>\n",
       "    <tr>\n",
       "      <th>2</th>\n",
       "      <td>517</td>\n",
       "      <td>71</td>\n",
       "      <td>7</td>\n",
       "      <td>27</td>\n",
       "    </tr>\n",
       "    <tr>\n",
       "      <th>3</th>\n",
       "      <td>132</td>\n",
       "      <td>22</td>\n",
       "      <td>2</td>\n",
       "      <td>8</td>\n",
       "    </tr>\n",
       "    <tr>\n",
       "      <th>4</th>\n",
       "      <td>116</td>\n",
       "      <td>19</td>\n",
       "      <td>2</td>\n",
       "      <td>7</td>\n",
       "    </tr>\n",
       "    <tr>\n",
       "      <th>5</th>\n",
       "      <td>3641</td>\n",
       "      <td>605</td>\n",
       "      <td>44</td>\n",
       "      <td>266</td>\n",
       "    </tr>\n",
       "    <tr>\n",
       "      <th>6</th>\n",
       "      <td>501</td>\n",
       "      <td>74</td>\n",
       "      <td>4</td>\n",
       "      <td>25</td>\n",
       "    </tr>\n",
       "    <tr>\n",
       "      <th>7</th>\n",
       "      <td>5163</td>\n",
       "      <td>767</td>\n",
       "      <td>70</td>\n",
       "      <td>359</td>\n",
       "    </tr>\n",
       "    <tr>\n",
       "      <th>8</th>\n",
       "      <td>1047</td>\n",
       "      <td>178</td>\n",
       "      <td>11</td>\n",
       "      <td>83</td>\n",
       "    </tr>\n",
       "    <tr>\n",
       "      <th>9</th>\n",
       "      <td>2289</td>\n",
       "      <td>351</td>\n",
       "      <td>25</td>\n",
       "      <td>147</td>\n",
       "    </tr>\n",
       "  </tbody>\n",
       "</table>\n",
       "</div>"
      ],
      "text/plain": [
       "   character_count  word_count  sentence_count  stopword_count\n",
       "0             2743         440              24             173\n",
       "1             2176         362              25             160\n",
       "2              517          71               7              27\n",
       "3              132          22               2               8\n",
       "4              116          19               2               7\n",
       "5             3641         605              44             266\n",
       "6              501          74               4              25\n",
       "7             5163         767              70             359\n",
       "8             1047         178              11              83\n",
       "9             2289         351              25             147"
      ]
     },
     "execution_count": 28,
     "metadata": {},
     "output_type": "execute_result"
    }
   ],
   "source": [
    "codeup_df[['character_count', 'word_count', 'sentence_count', 'stopword_count']].head(10)"
   ]
  },
  {
   "cell_type": "code",
   "execution_count": 29,
   "id": "73aaf5a2-bb1d-401b-a702-edf36c8d80f7",
   "metadata": {},
   "outputs": [
    {
     "data": {
      "text/plain": [
       "0.43276271195687155"
      ]
     },
     "execution_count": 29,
     "metadata": {},
     "output_type": "execute_result"
    }
   ],
   "source": [
    "# What's the average stopword to word ratio for Codeup blog articles?\n",
    "(codeup_df.stopword_count / codeup_df.word_count).mean()"
   ]
  },
  {
   "cell_type": "markdown",
   "id": "cd326836-8c00-40b9-89ec-47f985cc5e44",
   "metadata": {},
   "source": [
    "Stopwords on average make up more than 40% of Codeup blog articles."
   ]
  },
  {
   "cell_type": "code",
   "execution_count": 30,
   "id": "3cabf4ef-9099-4864-8c56-bf16da7b8e29",
   "metadata": {},
   "outputs": [
    {
     "data": {
      "text/plain": [
       "6.6490421196986285"
      ]
     },
     "execution_count": 30,
     "metadata": {},
     "output_type": "execute_result"
    }
   ],
   "source": [
    "# What about stopwords per sentence?\n",
    "(codeup_df.stopword_count / codeup_df.sentence_count).mean()"
   ]
  },
  {
   "cell_type": "markdown",
   "id": "079404d1-d2d5-4e67-9235-b2943d6f2e21",
   "metadata": {},
   "source": [
    "On average Codeup blog articles have 6 and half stopwords per sentence."
   ]
  },
  {
   "cell_type": "markdown",
   "id": "2e354753-aa1d-4426-a8ed-4406494b8412",
   "metadata": {},
   "source": [
    "### Sentiment Analysis"
   ]
  },
  {
   "cell_type": "code",
   "execution_count": 32,
   "id": "cd7f3326-672e-45eb-85d9-73e975ff8a16",
   "metadata": {},
   "outputs": [],
   "source": [
    "# Let's get the sentiment analysis for each Codeup blog article.\n",
    "import nltk.sentiment\n",
    "sia = nltk.sentiment.SentimentIntensityAnalyzer()"
   ]
  },
  {
   "cell_type": "code",
   "execution_count": 33,
   "id": "16cadb4b-c3a8-4b12-a0ca-f53848bd527f",
   "metadata": {},
   "outputs": [],
   "source": [
    "codeup_df['sentiment'] = codeup_df.clean.apply(lambda msg: sia.polarity_scores(msg)['compound'])"
   ]
  },
  {
   "cell_type": "code",
   "execution_count": 34,
   "id": "6fd08e1f-0825-40a6-b6c7-38779749f79c",
   "metadata": {},
   "outputs": [
    {
     "data": {
      "text/plain": [
       "0    0.9963\n",
       "1    0.9902\n",
       "2    0.9474\n",
       "3    0.5719\n",
       "4    0.5719\n",
       "5    0.9756\n",
       "6    0.2263\n",
       "7    0.9965\n",
       "8    0.6249\n",
       "9    0.9720\n",
       "Name: sentiment, dtype: float64"
      ]
     },
     "execution_count": 34,
     "metadata": {},
     "output_type": "execute_result"
    }
   ],
   "source": [
    "codeup_df.sentiment.head(10)"
   ]
  },
  {
   "cell_type": "code",
   "execution_count": 35,
   "id": "31f553d7-df47-42e9-99a4-dd3d8b6fce21",
   "metadata": {},
   "outputs": [
    {
     "data": {
      "text/plain": [
       "0.9193316513761471"
      ]
     },
     "execution_count": 35,
     "metadata": {},
     "output_type": "execute_result"
    }
   ],
   "source": [
    "codeup_df.sentiment.mean()"
   ]
  },
  {
   "cell_type": "markdown",
   "id": "8b3e123c-35e7-4b18-8ba6-f65035e853c3",
   "metadata": {},
   "source": [
    "On average Codeup blog articles are overwhelmingly positive."
   ]
  },
  {
   "cell_type": "markdown",
   "id": "fccde92b-3460-4180-8028-114af65eef50",
   "metadata": {},
   "source": [
    "## 3\n",
    "\n",
    "Explore the news articles using the techniques discussed in the exploration lesson. Use the category variable when exploring.\n",
    "\n",
    "### Acquire and Prepare"
   ]
  },
  {
   "cell_type": "code",
   "execution_count": 36,
   "id": "d1e5bf12-8e4c-4bb0-b6bc-03d3dd595550",
   "metadata": {},
   "outputs": [
    {
     "name": "stdout",
     "output_type": "stream",
     "text": [
      "<class 'pandas.core.frame.DataFrame'>\n",
      "RangeIndex: 99 entries, 0 to 98\n",
      "Data columns (total 3 columns):\n",
      " #   Column    Non-Null Count  Dtype \n",
      "---  ------    --------------  ----- \n",
      " 0   title     99 non-null     object\n",
      " 1   content   99 non-null     object\n",
      " 2   category  99 non-null     object\n",
      "dtypes: object(3)\n",
      "memory usage: 2.4+ KB\n"
     ]
    }
   ],
   "source": [
    "news_df = get_inshorts_articles()\n",
    "news_df.info()"
   ]
  },
  {
   "cell_type": "code",
   "execution_count": 37,
   "id": "13ed914f-eacf-4856-a88a-b86ad421a4f9",
   "metadata": {},
   "outputs": [
    {
     "name": "stdout",
     "output_type": "stream",
     "text": [
      "<class 'pandas.core.frame.DataFrame'>\n",
      "Int64Index: 99 entries, 0 to 98\n",
      "Data columns (total 6 columns):\n",
      " #   Column       Non-Null Count  Dtype \n",
      "---  ------       --------------  ----- \n",
      " 0   title        99 non-null     object\n",
      " 1   original     99 non-null     object\n",
      " 2   basic_clean  99 non-null     object\n",
      " 3   clean        99 non-null     object\n",
      " 4   stemmed      99 non-null     object\n",
      " 5   lemmatized   99 non-null     object\n",
      "dtypes: object(6)\n",
      "memory usage: 5.4+ KB\n"
     ]
    }
   ],
   "source": [
    "news_df = prepare_article_data(news_df)\n",
    "news_df.info()"
   ]
  },
  {
   "cell_type": "markdown",
   "id": "bf370033-64df-4ecc-8525-964ae56da695",
   "metadata": {},
   "source": [
    "### Explore Word Frequencies and n-grams"
   ]
  },
  {
   "cell_type": "code",
   "execution_count": 38,
   "id": "24f92a68-8542-4036-b706-d76b38b0d068",
   "metadata": {},
   "outputs": [],
   "source": [
    "# create a string of all the words in each article using the basic cleaned version of each article\n",
    "words = ' '.join(news_df.basic_clean)"
   ]
  },
  {
   "cell_type": "code",
   "execution_count": 39,
   "id": "755b81f3-0b2a-4a41-888b-bae470eb7229",
   "metadata": {},
   "outputs": [
    {
     "data": {
      "text/plain": [
       "the      250\n",
       "to       152\n",
       "of       124\n",
       "in       119\n",
       "a        109\n",
       "and      107\n",
       "on        69\n",
       "for       57\n",
       "that      57\n",
       "has       55\n",
       "he        52\n",
       "said      50\n",
       "was       44\n",
       "his       44\n",
       "by        40\n",
       "from      35\n",
       "is        35\n",
       "her       34\n",
       "it        34\n",
       "after     34\n",
       "dtype: int64"
      ]
     },
     "execution_count": 39,
     "metadata": {},
     "output_type": "execute_result"
    }
   ],
   "source": [
    "pd.Series(words.split()).value_counts().head(20)"
   ]
  },
  {
   "cell_type": "code",
   "execution_count": 40,
   "id": "de11842b-afb9-478c-997e-1672e62d6628",
   "metadata": {},
   "outputs": [
    {
     "data": {
      "text/plain": [
       "(in, the)          25\n",
       "(of, the)          19\n",
       "(on, sunday)       15\n",
       "(will, be)         11\n",
       "(he, added)        11\n",
       "(took, to)         10\n",
       "(ipl, 2022)        10\n",
       "(by, the)          10\n",
       "(elon, musk)       10\n",
       "(at, the)           9\n",
       "(said, that)        9\n",
       "(has, been)         9\n",
       "(on, the)           9\n",
       "(in, a)             8\n",
       "(she, added)        7\n",
       "(that, he)          7\n",
       "(the, first)        7\n",
       "(mother's, day)     7\n",
       "(said, the)         7\n",
       "(of, a)             7\n",
       "dtype: int64"
      ]
     },
     "execution_count": 40,
     "metadata": {},
     "output_type": "execute_result"
    }
   ],
   "source": [
    "# create bigrams\n",
    "news_df_bigrams = pd.Series(nltk.bigrams(words.split()))\n",
    "news_df_bigrams.value_counts().head(20)"
   ]
  },
  {
   "cell_type": "markdown",
   "id": "c731332e-6cc9-4fb6-b69c-994c7bb3c51f",
   "metadata": {},
   "source": [
    "Just like with the Codeup articles there are a lot of stopwords getting in the way. Let's create bigrams using the fully cleaned version of the articles instead."
   ]
  },
  {
   "cell_type": "code",
   "execution_count": 41,
   "id": "06391713-73e0-4b2a-8250-d7d9d1dc7022",
   "metadata": {},
   "outputs": [],
   "source": [
    "words = ' '.join(news_df.clean)"
   ]
  },
  {
   "cell_type": "code",
   "execution_count": 42,
   "id": "e7fca9b8-ca40-463e-af41-77949a68e50d",
   "metadata": {},
   "outputs": [
    {
     "data": {
      "text/plain": [
       "(elon, musk)             11\n",
       "(ipl, 2022)              10\n",
       "(mother, ')               8\n",
       "(', day)                  8\n",
       "(musk, ')                 7\n",
       "(world, ')                7\n",
       "(', richest)              6\n",
       "(took, instagram)         6\n",
       "(india, ')                6\n",
       "(richest, man)            5\n",
       "(', ')                    5\n",
       "(film, ')                 5\n",
       "(man, elon)               5\n",
       "(social, media)           5\n",
       "(nirmala, sitharaman)     5\n",
       "(minister, nirmala)       5\n",
       "(finance, minister)       5\n",
       "(', know)                 4\n",
       "(managing, director)      4\n",
       "(44, billion)             4\n",
       "dtype: int64"
      ]
     },
     "execution_count": 42,
     "metadata": {},
     "output_type": "execute_result"
    }
   ],
   "source": [
    "# create bigrams\n",
    "news_df_bigrams = pd.Series(nltk.bigrams(words.split()))\n",
    "news_df_bigrams.value_counts().head(20)"
   ]
  },
  {
   "cell_type": "markdown",
   "id": "5ee37dc9-3a22-4de9-bff2-f1b1e2fea4fe",
   "metadata": {},
   "source": [
    "We can see some of the more common talking points in the articles such as Elon Musk and Mother's Day."
   ]
  },
  {
   "cell_type": "code",
   "execution_count": 43,
   "id": "0b02b3af-a8fc-4f1b-8b45-a0b5ea4fb6bc",
   "metadata": {},
   "outputs": [
    {
     "data": {
      "text/plain": [
       "(mother, ', day)                   7\n",
       "(world, ', richest)                6\n",
       "(richest, man, elon)               5\n",
       "(minister, nirmala, sitharaman)    5\n",
       "(finance, minister, nirmala)       5\n",
       "(man, elon, musk)                  5\n",
       "(', richest, man)                  5\n",
       "(nirmala, sitharaman, said)        4\n",
       "(manufacturing, tesla, cars)       4\n",
       "(took, instagram, share)           3\n",
       "(amazon, praying, 4)               2\n",
       "(anderson, read, reacting)         2\n",
       "(packages, amazon, praying)        2\n",
       "(dropping, packages, amazon)       2\n",
       "(praying, 4, aubrey)               2\n",
       "(4, aubrey, luv)                   2\n",
       "(aubrey, luv, message)             2\n",
       "(luv, message, anderson)           2\n",
       "(message, anderson, read)          2\n",
       "(jared, birchall, managing)        2\n",
       "dtype: int64"
      ]
     },
     "execution_count": 43,
     "metadata": {},
     "output_type": "execute_result"
    }
   ],
   "source": [
    "# Let's try trigrams now\n",
    "news_df_trigrams = pd.Series(nltk.ngrams(words.split(), 3))\n",
    "news_df_trigrams.value_counts().head(20)"
   ]
  },
  {
   "cell_type": "markdown",
   "id": "6b6b0a33-f58d-4a1c-bf4f-4dd580f43779",
   "metadata": {},
   "source": [
    "Now some of the bigrams make more sense."
   ]
  },
  {
   "cell_type": "markdown",
   "id": "15b5a21f-1cd2-4d21-ad59-4596183df61b",
   "metadata": {},
   "source": [
    "### Feature Engineering"
   ]
  },
  {
   "cell_type": "code",
   "execution_count": 44,
   "id": "82b82490-34a6-4720-bac0-c901da5dedf7",
   "metadata": {},
   "outputs": [],
   "source": [
    "# Let's create features for character count, word count, sentence count, and stopword count\n",
    "\n",
    "news_df['character_count'] = news_df.original.apply(len)\n",
    "news_df['word_count'] = news_df.basic_clean.apply(lambda text: len(text.split()))\n",
    "news_df['sentence_count'] = news_df.original.apply(lambda text: len(re.split(r'[\\.!\\?]', text)))\n",
    "news_df['stopword_count'] = news_df.basic_clean.apply(lambda text: len(text.split())) - news_df.clean.apply(lambda text: len(text.split()))"
   ]
  },
  {
   "cell_type": "code",
   "execution_count": 45,
   "id": "f4b67d08-05ad-4033-baeb-ed1b070c1023",
   "metadata": {},
   "outputs": [
    {
     "data": {
      "text/html": [
       "<div>\n",
       "<style scoped>\n",
       "    .dataframe tbody tr th:only-of-type {\n",
       "        vertical-align: middle;\n",
       "    }\n",
       "\n",
       "    .dataframe tbody tr th {\n",
       "        vertical-align: top;\n",
       "    }\n",
       "\n",
       "    .dataframe thead th {\n",
       "        text-align: right;\n",
       "    }\n",
       "</style>\n",
       "<table border=\"1\" class=\"dataframe\">\n",
       "  <thead>\n",
       "    <tr style=\"text-align: right;\">\n",
       "      <th></th>\n",
       "      <th>character_count</th>\n",
       "      <th>word_count</th>\n",
       "      <th>sentence_count</th>\n",
       "      <th>stopword_count</th>\n",
       "    </tr>\n",
       "  </thead>\n",
       "  <tbody>\n",
       "    <tr>\n",
       "      <th>0</th>\n",
       "      <td>390</td>\n",
       "      <td>60</td>\n",
       "      <td>4</td>\n",
       "      <td>15</td>\n",
       "    </tr>\n",
       "    <tr>\n",
       "      <th>1</th>\n",
       "      <td>390</td>\n",
       "      <td>59</td>\n",
       "      <td>4</td>\n",
       "      <td>20</td>\n",
       "    </tr>\n",
       "    <tr>\n",
       "      <th>2</th>\n",
       "      <td>369</td>\n",
       "      <td>60</td>\n",
       "      <td>7</td>\n",
       "      <td>21</td>\n",
       "    </tr>\n",
       "    <tr>\n",
       "      <th>3</th>\n",
       "      <td>372</td>\n",
       "      <td>60</td>\n",
       "      <td>8</td>\n",
       "      <td>20</td>\n",
       "    </tr>\n",
       "    <tr>\n",
       "      <th>4</th>\n",
       "      <td>366</td>\n",
       "      <td>60</td>\n",
       "      <td>3</td>\n",
       "      <td>30</td>\n",
       "    </tr>\n",
       "    <tr>\n",
       "      <th>5</th>\n",
       "      <td>327</td>\n",
       "      <td>60</td>\n",
       "      <td>6</td>\n",
       "      <td>26</td>\n",
       "    </tr>\n",
       "    <tr>\n",
       "      <th>6</th>\n",
       "      <td>374</td>\n",
       "      <td>58</td>\n",
       "      <td>3</td>\n",
       "      <td>20</td>\n",
       "    </tr>\n",
       "    <tr>\n",
       "      <th>7</th>\n",
       "      <td>344</td>\n",
       "      <td>60</td>\n",
       "      <td>6</td>\n",
       "      <td>27</td>\n",
       "    </tr>\n",
       "    <tr>\n",
       "      <th>8</th>\n",
       "      <td>352</td>\n",
       "      <td>60</td>\n",
       "      <td>7</td>\n",
       "      <td>20</td>\n",
       "    </tr>\n",
       "    <tr>\n",
       "      <th>9</th>\n",
       "      <td>397</td>\n",
       "      <td>60</td>\n",
       "      <td>4</td>\n",
       "      <td>22</td>\n",
       "    </tr>\n",
       "  </tbody>\n",
       "</table>\n",
       "</div>"
      ],
      "text/plain": [
       "   character_count  word_count  sentence_count  stopword_count\n",
       "0              390          60               4              15\n",
       "1              390          59               4              20\n",
       "2              369          60               7              21\n",
       "3              372          60               8              20\n",
       "4              366          60               3              30\n",
       "5              327          60               6              26\n",
       "6              374          58               3              20\n",
       "7              344          60               6              27\n",
       "8              352          60               7              20\n",
       "9              397          60               4              22"
      ]
     },
     "execution_count": 45,
     "metadata": {},
     "output_type": "execute_result"
    }
   ],
   "source": [
    "news_df[['character_count', 'word_count', 'sentence_count', 'stopword_count']].head(10)"
   ]
  },
  {
   "cell_type": "code",
   "execution_count": 55,
   "id": "bb520a37-8c70-403f-8eb4-da4893c3e5b7",
   "metadata": {},
   "outputs": [
    {
     "data": {
      "text/plain": [
       "0.3580183598264707"
      ]
     },
     "execution_count": 55,
     "metadata": {},
     "output_type": "execute_result"
    }
   ],
   "source": [
    "# What's the average stopword to word ratio for inshorts news articles?\n",
    "(news_df.stopword_count / news_df.word_count).mean()"
   ]
  },
  {
   "cell_type": "markdown",
   "id": "0cb9cdd2-5945-421d-aed7-b575b0567557",
   "metadata": {},
   "source": [
    "Inshorts articles on average have less stopwords than the Codeup blog articles did."
   ]
  },
  {
   "cell_type": "code",
   "execution_count": 56,
   "id": "2b580eb2-0895-4832-9cc8-34eb8857044a",
   "metadata": {},
   "outputs": [
    {
     "data": {
      "text/plain": [
       "4.281299591014385"
      ]
     },
     "execution_count": 56,
     "metadata": {},
     "output_type": "execute_result"
    }
   ],
   "source": [
    "# What about stopwords per sentence?\n",
    "(news_df.stopword_count / news_df.sentence_count).mean()"
   ]
  },
  {
   "cell_type": "markdown",
   "id": "9c01fd6c-82ad-4115-99ac-54a31870cf57",
   "metadata": {},
   "source": [
    "On average there are 4 stopwords per sentence."
   ]
  },
  {
   "cell_type": "code",
   "execution_count": 57,
   "id": "418f1216-7818-4bea-9626-9870285ca1ad",
   "metadata": {},
   "outputs": [
    {
     "data": {
      "text/plain": [
       "5.848484848484849"
      ]
     },
     "execution_count": 57,
     "metadata": {},
     "output_type": "execute_result"
    }
   ],
   "source": [
    "# What is the average number of sentences?\n",
    "news_df.sentence_count.mean()"
   ]
  },
  {
   "cell_type": "markdown",
   "id": "4fe163d1-a1ff-4442-b49f-cd10867bc56e",
   "metadata": {},
   "source": [
    "On average inshorts articles are less than 6 sentences."
   ]
  },
  {
   "cell_type": "markdown",
   "id": "5bfccf9d-69a9-44f0-8821-52593962a4ed",
   "metadata": {},
   "source": [
    "### Sentiment Analysis"
   ]
  },
  {
   "cell_type": "code",
   "execution_count": 59,
   "id": "cf7ea331-8f73-4dbf-9262-24c14757ad1e",
   "metadata": {},
   "outputs": [],
   "source": [
    "news_df['sentiment'] = news_df.clean.apply(lambda msg: sia.polarity_scores(msg)['compound'])"
   ]
  },
  {
   "cell_type": "code",
   "execution_count": 60,
   "id": "74737a8b-c840-478a-a02f-a9a1b2352438",
   "metadata": {},
   "outputs": [
    {
     "data": {
      "text/plain": [
       "0    0.7003\n",
       "1    0.8588\n",
       "2    0.7650\n",
       "3    0.5106\n",
       "4   -0.8591\n",
       "5    0.7964\n",
       "6    0.6124\n",
       "7    0.8834\n",
       "8    0.8720\n",
       "9    0.7096\n",
       "Name: sentiment, dtype: float64"
      ]
     },
     "execution_count": 60,
     "metadata": {},
     "output_type": "execute_result"
    }
   ],
   "source": [
    "news_df.sentiment.head(10)"
   ]
  },
  {
   "cell_type": "code",
   "execution_count": 61,
   "id": "64a8b6b1-f9e6-410f-8df8-5b34fbee37eb",
   "metadata": {},
   "outputs": [
    {
     "data": {
      "text/plain": [
       "0.30501919191919197"
      ]
     },
     "execution_count": 61,
     "metadata": {},
     "output_type": "execute_result"
    }
   ],
   "source": [
    "news_df.sentiment.mean()"
   ]
  },
  {
   "cell_type": "markdown",
   "id": "9bb9b70f-2893-4c83-b12c-38ad503004a2",
   "metadata": {},
   "source": [
    "It seems that on average inshorts news articles are more positive, but are closer to being neutral than were the Codeup articles."
   ]
  }
 ],
 "metadata": {
  "kernelspec": {
   "display_name": "Python 3 (ipykernel)",
   "language": "python",
   "name": "python3"
  },
  "language_info": {
   "codemirror_mode": {
    "name": "ipython",
    "version": 3
   },
   "file_extension": ".py",
   "mimetype": "text/x-python",
   "name": "python",
   "nbconvert_exporter": "python",
   "pygments_lexer": "ipython3",
   "version": "3.9.7"
  }
 },
 "nbformat": 4,
 "nbformat_minor": 5
}
