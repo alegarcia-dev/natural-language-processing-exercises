{
 "cells": [
  {
   "cell_type": "code",
   "execution_count": 1,
   "id": "8f7deff8-4e34-4c45-996b-709b069036db",
   "metadata": {},
   "outputs": [],
   "source": [
    "import pandas as pd\n",
    "import re"
   ]
  },
  {
   "cell_type": "markdown",
   "id": "4d5bfe85-d8f6-4aaa-a378-f9a8487498d8",
   "metadata": {},
   "source": [
    "# Regular Expressions Exercises\n",
    "\n",
    "## 1\n",
    "\n",
    "Write a function named is_vowel. It should accept a string as input and use a regular expression to determine if the passed string is a vowel. While not explicity mentioned in the lesson, you can treat the result of re.search as a boolean value that indicates whether or not the regular expression matches the given string."
   ]
  },
  {
   "cell_type": "code",
   "execution_count": 2,
   "id": "3edb22db-c500-4ca5-90cd-0903d50a7102",
   "metadata": {},
   "outputs": [],
   "source": [
    "def is_vowel(character):\n",
    "    if type(character) != str or len(character) > 1:\n",
    "        return False\n",
    "    \n",
    "    regexp = r'[aeiouAEIOU]'\n",
    "    return bool(re.search(regexp, character))"
   ]
  },
  {
   "cell_type": "code",
   "execution_count": 3,
   "id": "68b4d8c9-8349-49ac-ab15-8ec76fc91f10",
   "metadata": {},
   "outputs": [
    {
     "name": "stdout",
     "output_type": "stream",
     "text": [
      "Tests passed\n"
     ]
    }
   ],
   "source": [
    "assert is_vowel('a')\n",
    "assert is_vowel('O')\n",
    "assert is_vowel('u')\n",
    "assert not is_vowel('t')\n",
    "assert not is_vowel('N')\n",
    "assert not is_vowel('p')\n",
    "print('Tests passed')"
   ]
  },
  {
   "cell_type": "markdown",
   "id": "c4da71ff-06fb-4de7-9386-6c86e9c91c03",
   "metadata": {},
   "source": [
    "## 2\n",
    "\n",
    "Write a function named is_valid_username that accepts a string as input. A valid username starts with a lowercase letter, and only consists of lowercase letters, numbers, or the _ character. It should also be no longer than 32 characters. The function should return either True or False depending on whether the passed string is a valid username."
   ]
  },
  {
   "cell_type": "code",
   "execution_count": 20,
   "id": "789149ad-c566-4843-bc4a-1b13ee54bf85",
   "metadata": {},
   "outputs": [],
   "source": [
    "def is_valid_username(username):\n",
    "    regexp = r'^[a-z][a-z0-9_]{0,31}$'\n",
    "    return bool(re.search(regexp, username))"
   ]
  },
  {
   "cell_type": "code",
   "execution_count": 22,
   "id": "c3a238c7-911f-49e0-9c6d-f065b1f42921",
   "metadata": {},
   "outputs": [
    {
     "name": "stdout",
     "output_type": "stream",
     "text": [
      "Tests passed\n"
     ]
    }
   ],
   "source": [
    "assert not is_valid_username('aaaaaaaaaaaaaaaaaaaaaaaaaaaaaaaaa')\n",
    "assert is_valid_username('codeup')\n",
    "assert not is_valid_username('Codeup')\n",
    "assert is_valid_username('codeup123')\n",
    "assert not is_valid_username('1codeup')\n",
    "assert is_valid_username('codeup_123')\n",
    "print('Tests passed')"
   ]
  },
  {
   "cell_type": "markdown",
   "id": "c134674a-3ca1-42a1-9af9-a61fee47a1f9",
   "metadata": {},
   "source": [
    "## 3\n",
    "\n",
    "Write a regular expression to capture phone numbers. It should match all of the following:\n",
    "\n",
    "- (210) 867 5309\n",
    "- +1 210.867.5309\n",
    "- 867-5309\n",
    "- 210-867-5309"
   ]
  },
  {
   "cell_type": "code",
   "execution_count": 43,
   "id": "0cb0f955-40db-4022-8747-cbd044e9dece",
   "metadata": {},
   "outputs": [],
   "source": [
    "def is_phone_number(phone_number):\n",
    "    regexp = r'^(\\+?1\\s)?(\\(?\\d{3}\\)?[-\\.\\s])?\\d{3}[-\\.\\s]\\d{4}$'\n",
    "    return bool(re.search(regexp, phone_number))"
   ]
  },
  {
   "cell_type": "code",
   "execution_count": 44,
   "id": "df6eb6b9-d9c9-457b-b65c-f08c3159f911",
   "metadata": {},
   "outputs": [
    {
     "name": "stdout",
     "output_type": "stream",
     "text": [
      "Tests passed\n"
     ]
    }
   ],
   "source": [
    "assert is_phone_number('(210) 867 5309')\n",
    "assert is_phone_number('+1 210.867.5309')\n",
    "assert is_phone_number('867-5309')\n",
    "assert is_phone_number('210-867-5309')\n",
    "assert is_phone_number('+1 210-867-5309')\n",
    "assert is_phone_number('+1 (210) 867-5309')\n",
    "assert is_phone_number('1 (210) 867-5309')\n",
    "assert is_phone_number('(210) 867.5309')\n",
    "assert is_phone_number('867 5309')\n",
    "assert not is_phone_number('-1 210-867-539')\n",
    "assert not is_phone_number('210-867-539')\n",
    "assert not is_phone_number('210+867+5309')\n",
    "assert not is_phone_number('210-8673-5309')\n",
    "print('Tests passed')"
   ]
  },
  {
   "cell_type": "markdown",
   "id": "88313a4a-193f-420e-9c8b-83ac0c9324de",
   "metadata": {},
   "source": [
    "## 4\n",
    "\n",
    "Use regular expressions to convert the dates below to the standardized year-month-day format.\n",
    "- 02/04/19\n",
    "- 02/05/19\n",
    "- 02/06/19\n",
    "- 02/07/19\n",
    "- 02/08/19\n",
    "- 02/09/19\n",
    "- 02/10/19"
   ]
  },
  {
   "cell_type": "code",
   "execution_count": 45,
   "id": "639e25e3-d0f2-44ad-81de-d1132dc71102",
   "metadata": {},
   "outputs": [
    {
     "data": {
      "text/plain": [
       "0    19-02-04\n",
       "1    19-02-05\n",
       "2    19-02-06\n",
       "3    19-02-07\n",
       "4    19-02-08\n",
       "5    19-02-09\n",
       "6    19-02-10\n",
       "dtype: object"
      ]
     },
     "execution_count": 45,
     "metadata": {},
     "output_type": "execute_result"
    }
   ],
   "source": [
    "dates = pd.Series([\n",
    "    '02/04/19',\n",
    "    '02/05/19',\n",
    "    '02/06/19',\n",
    "    '02/07/19',\n",
    "    '02/08/19',\n",
    "    '02/09/19',\n",
    "    '02/10/19'\n",
    "])\n",
    "\n",
    "match = r'(\\d{2})/(\\d{2})/(\\d{2})'\n",
    "target = r'\\3-\\1-\\2'\n",
    "\n",
    "dates.str.replace(match, target, regex = True)"
   ]
  },
  {
   "cell_type": "markdown",
   "id": "615ea241-ab68-49a5-a4b5-ebdc7c6c798c",
   "metadata": {},
   "source": [
    "## 5\n",
    "\n",
    "Write a regex to extract the various parts of these logfile lines:\n",
    "- GET /api/v1/sales?page=86 [16/Apr/2019:193452+0000] HTTP/1.1 {200} 510348 \"python-requests/2.21.0\" 97.105.19.58\n",
    "- POST /users_accounts/file-upload [16/Apr/2019:193452+0000] HTTP/1.1 {201} 42 \"User-Agent: Mozilla/5.0 (X11; Fedora; Fedora; Linux x86_64) AppleWebKit/537.36 (KHTML, like Gecko) Chrome/73.0.3683.86 Safari/537.36\" 97.105.19.58\n",
    "- GET /api/v1/items?page=3 [16/Apr/2019:193453+0000] HTTP/1.1 {429} 3561 \"python-requests/2.21.0\" 97.105.19.58"
   ]
  },
  {
   "cell_type": "code",
   "execution_count": 126,
   "id": "5e73abbe-dbd5-4c6d-ab24-3b825f90537a",
   "metadata": {},
   "outputs": [
    {
     "data": {
      "text/html": [
       "<div>\n",
       "<style scoped>\n",
       "    .dataframe tbody tr th:only-of-type {\n",
       "        vertical-align: middle;\n",
       "    }\n",
       "\n",
       "    .dataframe tbody tr th {\n",
       "        vertical-align: top;\n",
       "    }\n",
       "\n",
       "    .dataframe thead th {\n",
       "        text-align: right;\n",
       "    }\n",
       "</style>\n",
       "<table border=\"1\" class=\"dataframe\">\n",
       "  <thead>\n",
       "    <tr style=\"text-align: right;\">\n",
       "      <th></th>\n",
       "      <th>request_type</th>\n",
       "      <th>page</th>\n",
       "      <th>timestamp</th>\n",
       "      <th>protocol</th>\n",
       "      <th>status_code</th>\n",
       "      <th>size</th>\n",
       "      <th>agent</th>\n",
       "      <th>ip_address</th>\n",
       "    </tr>\n",
       "  </thead>\n",
       "  <tbody>\n",
       "    <tr>\n",
       "      <th>0</th>\n",
       "      <td>GET</td>\n",
       "      <td>/api/v1/sales?page=86</td>\n",
       "      <td>16/Apr/2019:193452+0000</td>\n",
       "      <td>HTTP/1.1</td>\n",
       "      <td>200</td>\n",
       "      <td>510348</td>\n",
       "      <td>python-requests/2.21.0</td>\n",
       "      <td>97.105.19.58</td>\n",
       "    </tr>\n",
       "    <tr>\n",
       "      <th>1</th>\n",
       "      <td>POST</td>\n",
       "      <td>/users_accounts/file-upload</td>\n",
       "      <td>16/Apr/2019:193452+0000</td>\n",
       "      <td>HTTP/1.1</td>\n",
       "      <td>201</td>\n",
       "      <td>42</td>\n",
       "      <td>User-Agent: Mozilla/5.0 (X11; Fedora; Fedora; ...</td>\n",
       "      <td>97.105.19.58</td>\n",
       "    </tr>\n",
       "    <tr>\n",
       "      <th>2</th>\n",
       "      <td>GET</td>\n",
       "      <td>/api/v1/items?page=3</td>\n",
       "      <td>16/Apr/2019:193453+0000</td>\n",
       "      <td>HTTP/1.1</td>\n",
       "      <td>429</td>\n",
       "      <td>3561</td>\n",
       "      <td>python-requests/2.21.0</td>\n",
       "      <td>97.105.19.58</td>\n",
       "    </tr>\n",
       "  </tbody>\n",
       "</table>\n",
       "</div>"
      ],
      "text/plain": [
       "  request_type                         page                timestamp  \\\n",
       "0          GET        /api/v1/sales?page=86  16/Apr/2019:193452+0000   \n",
       "1         POST  /users_accounts/file-upload  16/Apr/2019:193452+0000   \n",
       "2          GET         /api/v1/items?page=3  16/Apr/2019:193453+0000   \n",
       "\n",
       "   protocol status_code    size  \\\n",
       "0  HTTP/1.1         200  510348   \n",
       "1  HTTP/1.1         201      42   \n",
       "2  HTTP/1.1         429    3561   \n",
       "\n",
       "                                               agent    ip_address  \n",
       "0                             python-requests/2.21.0  97.105.19.58  \n",
       "1  User-Agent: Mozilla/5.0 (X11; Fedora; Fedora; ...  97.105.19.58  \n",
       "2                             python-requests/2.21.0  97.105.19.58  "
      ]
     },
     "execution_count": 126,
     "metadata": {},
     "output_type": "execute_result"
    }
   ],
   "source": [
    "logs = pd.Series([\n",
    "    'GET /api/v1/sales?page=86 [16/Apr/2019:193452+0000] HTTP/1.1 {200} 510348 \"python-requests/2.21.0\" 97.105.19.58',\n",
    "    'POST /users_accounts/file-upload [16/Apr/2019:193452+0000] HTTP/1.1 {201} 42 \"User-Agent: Mozilla/5.0 (X11; Fedora; Fedora; Linux x86_64) AppleWebKit/537.36 (KHTML, like Gecko) Chrome/73.0.3683.86 Safari/537.36\" 97.105.19.58',\n",
    "    'GET /api/v1/items?page=3 [16/Apr/2019:193453+0000] HTTP/1.1 {429} 3561 \"python-requests/2.21.0\" 97.105.19.58'\n",
    "])\n",
    "\n",
    "regexp = r'^(?P<request_type>[A-Z]{3,4})\\s+(?P<page>.*?)\\s+\\[(?P<timestamp>.*?)\\]\\s+(?P<protocol>.*?)\\s+\\{(?P<status_code>\\d{3})\\}\\s+(?P<size>\\d+?)\\s+\"(?P<agent>.*?)\"\\s+(?P<ip_address>\\d{1,3}\\.\\d{1,3}\\.\\d{1,3}\\.\\d{1,3})$'\n",
    "url_parts = logs.str.extract(regexp)\n",
    "url_parts"
   ]
  },
  {
   "cell_type": "markdown",
   "id": "9bcb822d-32e3-4175-bdac-02d2df231b7e",
   "metadata": {},
   "source": [
    "## Bonus Exercise\n",
    "\n",
    "You can find a list of words on your mac at /usr/share/dict/words. Use this file to answer the following questions:"
   ]
  },
  {
   "cell_type": "code",
   "execution_count": 116,
   "id": "edc719cc-8bf2-4ccf-951c-9aed8e83e57a",
   "metadata": {},
   "outputs": [],
   "source": [
    "words = pd.read_csv('/usr/share/dict/words')\n",
    "words.columns = ['words']\n",
    "words.dropna(inplace = True)"
   ]
  },
  {
   "cell_type": "markdown",
   "id": "d766d03a-6b32-4750-b15d-be7b7fffee8d",
   "metadata": {},
   "source": [
    "- How many words have at least 3 vowels?"
   ]
  },
  {
   "cell_type": "code",
   "execution_count": 117,
   "id": "50121a28-8e7a-4b73-a07e-6577394059da",
   "metadata": {},
   "outputs": [
    {
     "name": "stderr",
     "output_type": "stream",
     "text": [
      "/var/folders/95/v52kk6ys7s14hmmc3xm7b1xr0000gn/T/ipykernel_1750/966656627.py:2: UserWarning: This pattern has match groups. To actually get the groups, use str.extract.\n",
      "  words['result'] = words.words.str.contains(regexp, regex = True)\n"
     ]
    },
    {
     "data": {
      "text/html": [
       "<div>\n",
       "<style scoped>\n",
       "    .dataframe tbody tr th:only-of-type {\n",
       "        vertical-align: middle;\n",
       "    }\n",
       "\n",
       "    .dataframe tbody tr th {\n",
       "        vertical-align: top;\n",
       "    }\n",
       "\n",
       "    .dataframe thead th {\n",
       "        text-align: right;\n",
       "    }\n",
       "</style>\n",
       "<table border=\"1\" class=\"dataframe\">\n",
       "  <thead>\n",
       "    <tr style=\"text-align: right;\">\n",
       "      <th></th>\n",
       "      <th>words</th>\n",
       "      <th>result</th>\n",
       "    </tr>\n",
       "  </thead>\n",
       "  <tbody>\n",
       "    <tr>\n",
       "      <th>3</th>\n",
       "      <td>aalii</td>\n",
       "      <td>True</td>\n",
       "    </tr>\n",
       "    <tr>\n",
       "      <th>5</th>\n",
       "      <td>Aani</td>\n",
       "      <td>True</td>\n",
       "    </tr>\n",
       "    <tr>\n",
       "      <th>6</th>\n",
       "      <td>aardvark</td>\n",
       "      <td>True</td>\n",
       "    </tr>\n",
       "    <tr>\n",
       "      <th>7</th>\n",
       "      <td>aardwolf</td>\n",
       "      <td>True</td>\n",
       "    </tr>\n",
       "    <tr>\n",
       "      <th>8</th>\n",
       "      <td>Aaron</td>\n",
       "      <td>True</td>\n",
       "    </tr>\n",
       "    <tr>\n",
       "      <th>...</th>\n",
       "      <td>...</td>\n",
       "      <td>...</td>\n",
       "    </tr>\n",
       "    <tr>\n",
       "      <th>235873</th>\n",
       "      <td>zymotically</td>\n",
       "      <td>True</td>\n",
       "    </tr>\n",
       "    <tr>\n",
       "      <th>235874</th>\n",
       "      <td>zymotize</td>\n",
       "      <td>True</td>\n",
       "    </tr>\n",
       "    <tr>\n",
       "      <th>235875</th>\n",
       "      <td>zymotoxic</td>\n",
       "      <td>True</td>\n",
       "    </tr>\n",
       "    <tr>\n",
       "      <th>235877</th>\n",
       "      <td>Zyrenian</td>\n",
       "      <td>True</td>\n",
       "    </tr>\n",
       "    <tr>\n",
       "      <th>235884</th>\n",
       "      <td>Zyzzogeton</td>\n",
       "      <td>True</td>\n",
       "    </tr>\n",
       "  </tbody>\n",
       "</table>\n",
       "<p>191365 rows × 2 columns</p>\n",
       "</div>"
      ],
      "text/plain": [
       "              words  result\n",
       "3             aalii    True\n",
       "5              Aani    True\n",
       "6          aardvark    True\n",
       "7          aardwolf    True\n",
       "8             Aaron    True\n",
       "...             ...     ...\n",
       "235873  zymotically    True\n",
       "235874     zymotize    True\n",
       "235875    zymotoxic    True\n",
       "235877     Zyrenian    True\n",
       "235884   Zyzzogeton    True\n",
       "\n",
       "[191365 rows x 2 columns]"
      ]
     },
     "execution_count": 117,
     "metadata": {},
     "output_type": "execute_result"
    }
   ],
   "source": [
    "regexp = r'(\\w*[aeiouAEIOU]\\w*){3,}'\n",
    "words['result'] = words.words.str.contains(regexp, regex = True)\n",
    "words[words.result]"
   ]
  },
  {
   "cell_type": "markdown",
   "id": "2421eb15-a5ac-4eeb-a1a9-1323f068fdb0",
   "metadata": {},
   "source": [
    "- How many words have at least 3 vowels in a row?"
   ]
  },
  {
   "cell_type": "code",
   "execution_count": 118,
   "id": "93a9af6b-b0af-4050-948f-a6abc852c97b",
   "metadata": {},
   "outputs": [
    {
     "data": {
      "text/html": [
       "<div>\n",
       "<style scoped>\n",
       "    .dataframe tbody tr th:only-of-type {\n",
       "        vertical-align: middle;\n",
       "    }\n",
       "\n",
       "    .dataframe tbody tr th {\n",
       "        vertical-align: top;\n",
       "    }\n",
       "\n",
       "    .dataframe thead th {\n",
       "        text-align: right;\n",
       "    }\n",
       "</style>\n",
       "<table border=\"1\" class=\"dataframe\">\n",
       "  <thead>\n",
       "    <tr style=\"text-align: right;\">\n",
       "      <th></th>\n",
       "      <th>words</th>\n",
       "      <th>result</th>\n",
       "    </tr>\n",
       "  </thead>\n",
       "  <tbody>\n",
       "    <tr>\n",
       "      <th>233</th>\n",
       "      <td>Abietineae</td>\n",
       "      <td>True</td>\n",
       "    </tr>\n",
       "    <tr>\n",
       "      <th>234</th>\n",
       "      <td>abietineous</td>\n",
       "      <td>True</td>\n",
       "    </tr>\n",
       "    <tr>\n",
       "      <th>300</th>\n",
       "      <td>ablatitious</td>\n",
       "      <td>True</td>\n",
       "    </tr>\n",
       "    <tr>\n",
       "      <th>433</th>\n",
       "      <td>abranchious</td>\n",
       "      <td>True</td>\n",
       "    </tr>\n",
       "    <tr>\n",
       "      <th>506</th>\n",
       "      <td>absenteeism</td>\n",
       "      <td>True</td>\n",
       "    </tr>\n",
       "    <tr>\n",
       "      <th>...</th>\n",
       "      <td>...</td>\n",
       "      <td>...</td>\n",
       "    </tr>\n",
       "    <tr>\n",
       "      <th>235799</th>\n",
       "      <td>Zygophyceae</td>\n",
       "      <td>True</td>\n",
       "    </tr>\n",
       "    <tr>\n",
       "      <th>235800</th>\n",
       "      <td>zygophyceous</td>\n",
       "      <td>True</td>\n",
       "    </tr>\n",
       "    <tr>\n",
       "      <th>235801</th>\n",
       "      <td>Zygophyllaceae</td>\n",
       "      <td>True</td>\n",
       "    </tr>\n",
       "    <tr>\n",
       "      <th>235802</th>\n",
       "      <td>zygophyllaceous</td>\n",
       "      <td>True</td>\n",
       "    </tr>\n",
       "    <tr>\n",
       "      <th>235807</th>\n",
       "      <td>Zygopteraceae</td>\n",
       "      <td>True</td>\n",
       "    </tr>\n",
       "  </tbody>\n",
       "</table>\n",
       "<p>6182 rows × 2 columns</p>\n",
       "</div>"
      ],
      "text/plain": [
       "                  words  result\n",
       "233          Abietineae    True\n",
       "234         abietineous    True\n",
       "300         ablatitious    True\n",
       "433         abranchious    True\n",
       "506         absenteeism    True\n",
       "...                 ...     ...\n",
       "235799      Zygophyceae    True\n",
       "235800     zygophyceous    True\n",
       "235801   Zygophyllaceae    True\n",
       "235802  zygophyllaceous    True\n",
       "235807    Zygopteraceae    True\n",
       "\n",
       "[6182 rows x 2 columns]"
      ]
     },
     "execution_count": 118,
     "metadata": {},
     "output_type": "execute_result"
    }
   ],
   "source": [
    "regexp = r'[aeiouAEIOU]{3,}'\n",
    "words['result'] = words.words.str.contains(regexp, regex = True)\n",
    "words[words.result]"
   ]
  },
  {
   "cell_type": "markdown",
   "id": "6b3f3048-4999-4202-832d-637cdd024677",
   "metadata": {},
   "source": [
    "- How many words have at least 4 consonants in a row?"
   ]
  },
  {
   "cell_type": "code",
   "execution_count": 119,
   "id": "ade4aa62-720d-470b-a8f1-fb3c2a12e0b1",
   "metadata": {},
   "outputs": [
    {
     "data": {
      "text/html": [
       "<div>\n",
       "<style scoped>\n",
       "    .dataframe tbody tr th:only-of-type {\n",
       "        vertical-align: middle;\n",
       "    }\n",
       "\n",
       "    .dataframe tbody tr th {\n",
       "        vertical-align: top;\n",
       "    }\n",
       "\n",
       "    .dataframe thead th {\n",
       "        text-align: right;\n",
       "    }\n",
       "</style>\n",
       "<table border=\"1\" class=\"dataframe\">\n",
       "  <thead>\n",
       "    <tr style=\"text-align: right;\">\n",
       "      <th></th>\n",
       "      <th>words</th>\n",
       "      <th>result</th>\n",
       "    </tr>\n",
       "  </thead>\n",
       "  <tbody>\n",
       "    <tr>\n",
       "      <th>56</th>\n",
       "      <td>abarthrosis</td>\n",
       "      <td>True</td>\n",
       "    </tr>\n",
       "    <tr>\n",
       "      <th>72</th>\n",
       "      <td>abashlessly</td>\n",
       "      <td>True</td>\n",
       "    </tr>\n",
       "    <tr>\n",
       "      <th>143</th>\n",
       "      <td>abdominocystic</td>\n",
       "      <td>True</td>\n",
       "    </tr>\n",
       "    <tr>\n",
       "      <th>145</th>\n",
       "      <td>abdominohysterectomy</td>\n",
       "      <td>True</td>\n",
       "    </tr>\n",
       "    <tr>\n",
       "      <th>146</th>\n",
       "      <td>abdominohysterotomy</td>\n",
       "      <td>True</td>\n",
       "    </tr>\n",
       "    <tr>\n",
       "      <th>...</th>\n",
       "      <td>...</td>\n",
       "      <td>...</td>\n",
       "    </tr>\n",
       "    <tr>\n",
       "      <th>235879</th>\n",
       "      <td>Zyryan</td>\n",
       "      <td>True</td>\n",
       "    </tr>\n",
       "    <tr>\n",
       "      <th>235880</th>\n",
       "      <td>zythem</td>\n",
       "      <td>True</td>\n",
       "    </tr>\n",
       "    <tr>\n",
       "      <th>235881</th>\n",
       "      <td>Zythia</td>\n",
       "      <td>True</td>\n",
       "    </tr>\n",
       "    <tr>\n",
       "      <th>235882</th>\n",
       "      <td>zythum</td>\n",
       "      <td>True</td>\n",
       "    </tr>\n",
       "    <tr>\n",
       "      <th>235884</th>\n",
       "      <td>Zyzzogeton</td>\n",
       "      <td>True</td>\n",
       "    </tr>\n",
       "  </tbody>\n",
       "</table>\n",
       "<p>19241 rows × 2 columns</p>\n",
       "</div>"
      ],
      "text/plain": [
       "                       words  result\n",
       "56               abarthrosis    True\n",
       "72               abashlessly    True\n",
       "143           abdominocystic    True\n",
       "145     abdominohysterectomy    True\n",
       "146      abdominohysterotomy    True\n",
       "...                      ...     ...\n",
       "235879                Zyryan    True\n",
       "235880                zythem    True\n",
       "235881                Zythia    True\n",
       "235882                zythum    True\n",
       "235884            Zyzzogeton    True\n",
       "\n",
       "[19241 rows x 2 columns]"
      ]
     },
     "execution_count": 119,
     "metadata": {},
     "output_type": "execute_result"
    }
   ],
   "source": [
    "regexp = r'[^aeiouAEIOU]{4,}'\n",
    "words['result'] = words.words.str.contains(regexp, regex = True)\n",
    "words[words.result]"
   ]
  },
  {
   "cell_type": "markdown",
   "id": "0f3ec9f1-3ece-4364-9a0c-ef1d6dec3b55",
   "metadata": {},
   "source": [
    "- How many words start and end with the same letter?"
   ]
  },
  {
   "cell_type": "code",
   "execution_count": 120,
   "id": "fd07336c-8f07-488b-8c83-cdcae3c15462",
   "metadata": {},
   "outputs": [
    {
     "name": "stderr",
     "output_type": "stream",
     "text": [
      "/var/folders/95/v52kk6ys7s14hmmc3xm7b1xr0000gn/T/ipykernel_1750/3947750299.py:2: UserWarning: This pattern has match groups. To actually get the groups, use str.extract.\n",
      "  words['result'] = words.words.str.contains(regexp, regex = True)\n"
     ]
    },
    {
     "data": {
      "text/html": [
       "<div>\n",
       "<style scoped>\n",
       "    .dataframe tbody tr th:only-of-type {\n",
       "        vertical-align: middle;\n",
       "    }\n",
       "\n",
       "    .dataframe tbody tr th {\n",
       "        vertical-align: top;\n",
       "    }\n",
       "\n",
       "    .dataframe thead th {\n",
       "        text-align: right;\n",
       "    }\n",
       "</style>\n",
       "<table border=\"1\" class=\"dataframe\">\n",
       "  <thead>\n",
       "    <tr style=\"text-align: right;\">\n",
       "      <th></th>\n",
       "      <th>words</th>\n",
       "      <th>result</th>\n",
       "    </tr>\n",
       "  </thead>\n",
       "  <tbody>\n",
       "    <tr>\n",
       "      <th>1</th>\n",
       "      <td>aa</td>\n",
       "      <td>True</td>\n",
       "    </tr>\n",
       "    <tr>\n",
       "      <th>15</th>\n",
       "      <td>aba</td>\n",
       "      <td>True</td>\n",
       "    </tr>\n",
       "    <tr>\n",
       "      <th>19</th>\n",
       "      <td>abaca</td>\n",
       "      <td>True</td>\n",
       "    </tr>\n",
       "    <tr>\n",
       "      <th>74</th>\n",
       "      <td>abasia</td>\n",
       "      <td>True</td>\n",
       "    </tr>\n",
       "    <tr>\n",
       "      <th>182</th>\n",
       "      <td>abepithymia</td>\n",
       "      <td>True</td>\n",
       "    </tr>\n",
       "    <tr>\n",
       "      <th>...</th>\n",
       "      <td>...</td>\n",
       "      <td>...</td>\n",
       "    </tr>\n",
       "    <tr>\n",
       "      <th>234849</th>\n",
       "      <td>yowley</td>\n",
       "      <td>True</td>\n",
       "    </tr>\n",
       "    <tr>\n",
       "      <th>234853</th>\n",
       "      <td>yoy</td>\n",
       "      <td>True</td>\n",
       "    </tr>\n",
       "    <tr>\n",
       "      <th>234892</th>\n",
       "      <td>yucky</td>\n",
       "      <td>True</td>\n",
       "    </tr>\n",
       "    <tr>\n",
       "      <th>234912</th>\n",
       "      <td>yummy</td>\n",
       "      <td>True</td>\n",
       "    </tr>\n",
       "    <tr>\n",
       "      <th>235343</th>\n",
       "      <td>zizz</td>\n",
       "      <td>True</td>\n",
       "    </tr>\n",
       "  </tbody>\n",
       "</table>\n",
       "<p>9916 rows × 2 columns</p>\n",
       "</div>"
      ],
      "text/plain": [
       "              words  result\n",
       "1                aa    True\n",
       "15              aba    True\n",
       "19            abaca    True\n",
       "74           abasia    True\n",
       "182     abepithymia    True\n",
       "...             ...     ...\n",
       "234849       yowley    True\n",
       "234853          yoy    True\n",
       "234892        yucky    True\n",
       "234912        yummy    True\n",
       "235343         zizz    True\n",
       "\n",
       "[9916 rows x 2 columns]"
      ]
     },
     "execution_count": 120,
     "metadata": {},
     "output_type": "execute_result"
    }
   ],
   "source": [
    "regexp = r'^(\\w)\\w*\\1$'\n",
    "words['result'] = words.words.str.contains(regexp, regex = True)\n",
    "words[words.result]"
   ]
  },
  {
   "cell_type": "markdown",
   "id": "fe4e0010-c082-4705-99e0-8d34fa5687c4",
   "metadata": {},
   "source": [
    "- How many words start and end with a vowel?"
   ]
  },
  {
   "cell_type": "code",
   "execution_count": 121,
   "id": "51873304-9673-486a-8e00-45453ffee002",
   "metadata": {},
   "outputs": [
    {
     "data": {
      "text/html": [
       "<div>\n",
       "<style scoped>\n",
       "    .dataframe tbody tr th:only-of-type {\n",
       "        vertical-align: middle;\n",
       "    }\n",
       "\n",
       "    .dataframe tbody tr th {\n",
       "        vertical-align: top;\n",
       "    }\n",
       "\n",
       "    .dataframe thead th {\n",
       "        text-align: right;\n",
       "    }\n",
       "</style>\n",
       "<table border=\"1\" class=\"dataframe\">\n",
       "  <thead>\n",
       "    <tr style=\"text-align: right;\">\n",
       "      <th></th>\n",
       "      <th>words</th>\n",
       "      <th>result</th>\n",
       "    </tr>\n",
       "  </thead>\n",
       "  <tbody>\n",
       "    <tr>\n",
       "      <th>1</th>\n",
       "      <td>aa</td>\n",
       "      <td>True</td>\n",
       "    </tr>\n",
       "    <tr>\n",
       "      <th>3</th>\n",
       "      <td>aalii</td>\n",
       "      <td>True</td>\n",
       "    </tr>\n",
       "    <tr>\n",
       "      <th>5</th>\n",
       "      <td>Aani</td>\n",
       "      <td>True</td>\n",
       "    </tr>\n",
       "    <tr>\n",
       "      <th>11</th>\n",
       "      <td>Aaronite</td>\n",
       "      <td>True</td>\n",
       "    </tr>\n",
       "    <tr>\n",
       "      <th>13</th>\n",
       "      <td>Aaru</td>\n",
       "      <td>True</td>\n",
       "    </tr>\n",
       "    <tr>\n",
       "      <th>...</th>\n",
       "      <td>...</td>\n",
       "      <td>...</td>\n",
       "    </tr>\n",
       "    <tr>\n",
       "      <th>226472</th>\n",
       "      <td>uvulae</td>\n",
       "      <td>True</td>\n",
       "    </tr>\n",
       "    <tr>\n",
       "      <th>226474</th>\n",
       "      <td>Uvularia</td>\n",
       "      <td>True</td>\n",
       "    </tr>\n",
       "    <tr>\n",
       "      <th>226478</th>\n",
       "      <td>uvulotome</td>\n",
       "      <td>True</td>\n",
       "    </tr>\n",
       "    <tr>\n",
       "      <th>226485</th>\n",
       "      <td>uxoricide</td>\n",
       "      <td>True</td>\n",
       "    </tr>\n",
       "    <tr>\n",
       "      <th>226490</th>\n",
       "      <td>uzara</td>\n",
       "      <td>True</td>\n",
       "    </tr>\n",
       "  </tbody>\n",
       "</table>\n",
       "<p>14657 rows × 2 columns</p>\n",
       "</div>"
      ],
      "text/plain": [
       "            words  result\n",
       "1              aa    True\n",
       "3           aalii    True\n",
       "5            Aani    True\n",
       "11       Aaronite    True\n",
       "13           Aaru    True\n",
       "...           ...     ...\n",
       "226472     uvulae    True\n",
       "226474   Uvularia    True\n",
       "226478  uvulotome    True\n",
       "226485  uxoricide    True\n",
       "226490      uzara    True\n",
       "\n",
       "[14657 rows x 2 columns]"
      ]
     },
     "execution_count": 121,
     "metadata": {},
     "output_type": "execute_result"
    }
   ],
   "source": [
    "regexp = r'^[aeiouAEIOU]\\w*[aeiouAEIOU]$'\n",
    "words['result'] = words.words.str.contains(regexp, regex = True)\n",
    "words[words.result]"
   ]
  },
  {
   "cell_type": "markdown",
   "id": "14c47f5a-eca3-4b54-9d7b-3d76557a641d",
   "metadata": {},
   "source": [
    "- How many words contain the same letter 3 times in a row?"
   ]
  },
  {
   "cell_type": "code",
   "execution_count": 122,
   "id": "bbc1c2c4-0e6d-407d-9aa0-13d5c57fe3f2",
   "metadata": {},
   "outputs": [
    {
     "name": "stderr",
     "output_type": "stream",
     "text": [
      "/var/folders/95/v52kk6ys7s14hmmc3xm7b1xr0000gn/T/ipykernel_1750/457801207.py:2: UserWarning: This pattern has match groups. To actually get the groups, use str.extract.\n",
      "  words['result'] = words.words.str.contains(regexp, regex = True)\n"
     ]
    },
    {
     "data": {
      "text/html": [
       "<div>\n",
       "<style scoped>\n",
       "    .dataframe tbody tr th:only-of-type {\n",
       "        vertical-align: middle;\n",
       "    }\n",
       "\n",
       "    .dataframe tbody tr th {\n",
       "        vertical-align: top;\n",
       "    }\n",
       "\n",
       "    .dataframe thead th {\n",
       "        text-align: right;\n",
       "    }\n",
       "</style>\n",
       "<table border=\"1\" class=\"dataframe\">\n",
       "  <thead>\n",
       "    <tr style=\"text-align: right;\">\n",
       "      <th></th>\n",
       "      <th>words</th>\n",
       "      <th>result</th>\n",
       "    </tr>\n",
       "  </thead>\n",
       "  <tbody>\n",
       "    <tr>\n",
       "      <th>24987</th>\n",
       "      <td>bossship</td>\n",
       "      <td>True</td>\n",
       "    </tr>\n",
       "    <tr>\n",
       "      <th>50635</th>\n",
       "      <td>demigoddessship</td>\n",
       "      <td>True</td>\n",
       "    </tr>\n",
       "    <tr>\n",
       "      <th>78497</th>\n",
       "      <td>goddessship</td>\n",
       "      <td>True</td>\n",
       "    </tr>\n",
       "    <tr>\n",
       "      <th>82996</th>\n",
       "      <td>headmistressship</td>\n",
       "      <td>True</td>\n",
       "    </tr>\n",
       "    <tr>\n",
       "      <th>140480</th>\n",
       "      <td>patronessship</td>\n",
       "      <td>True</td>\n",
       "    </tr>\n",
       "    <tr>\n",
       "      <th>230261</th>\n",
       "      <td>wallless</td>\n",
       "      <td>True</td>\n",
       "    </tr>\n",
       "    <tr>\n",
       "      <th>231687</th>\n",
       "      <td>whenceeer</td>\n",
       "      <td>True</td>\n",
       "    </tr>\n",
       "  </tbody>\n",
       "</table>\n",
       "</div>"
      ],
      "text/plain": [
       "                   words  result\n",
       "24987           bossship    True\n",
       "50635    demigoddessship    True\n",
       "78497        goddessship    True\n",
       "82996   headmistressship    True\n",
       "140480     patronessship    True\n",
       "230261          wallless    True\n",
       "231687         whenceeer    True"
      ]
     },
     "execution_count": 122,
     "metadata": {},
     "output_type": "execute_result"
    }
   ],
   "source": [
    "regexp = r'(\\w)\\1\\1'\n",
    "words['result'] = words.words.str.contains(regexp, regex = True)\n",
    "words[words.result]"
   ]
  },
  {
   "cell_type": "code",
   "execution_count": 123,
   "id": "868218c4-6d15-4ccc-9035-81819001ad87",
   "metadata": {},
   "outputs": [
    {
     "data": {
      "text/plain": [
       "7"
      ]
     },
     "execution_count": 123,
     "metadata": {},
     "output_type": "execute_result"
    }
   ],
   "source": [
    "words.result.sum()"
   ]
  },
  {
   "cell_type": "markdown",
   "id": "05da9d7c-c88e-4362-8ddf-76fe3e93c1aa",
   "metadata": {},
   "source": [
    "- What other interesting patterns in words can you find?"
   ]
  },
  {
   "cell_type": "code",
   "execution_count": 124,
   "id": "7a371ca2-6002-4679-b889-7354eff18076",
   "metadata": {},
   "outputs": [
    {
     "name": "stderr",
     "output_type": "stream",
     "text": [
      "/var/folders/95/v52kk6ys7s14hmmc3xm7b1xr0000gn/T/ipykernel_1750/4179257607.py:4: UserWarning: This pattern has match groups. To actually get the groups, use str.extract.\n",
      "  words['result'] = words.words.str.contains(regexp, regex = True)\n"
     ]
    },
    {
     "data": {
      "text/html": [
       "<div>\n",
       "<style scoped>\n",
       "    .dataframe tbody tr th:only-of-type {\n",
       "        vertical-align: middle;\n",
       "    }\n",
       "\n",
       "    .dataframe tbody tr th {\n",
       "        vertical-align: top;\n",
       "    }\n",
       "\n",
       "    .dataframe thead th {\n",
       "        text-align: right;\n",
       "    }\n",
       "</style>\n",
       "<table border=\"1\" class=\"dataframe\">\n",
       "  <thead>\n",
       "    <tr style=\"text-align: right;\">\n",
       "      <th></th>\n",
       "      <th>words</th>\n",
       "      <th>result</th>\n",
       "    </tr>\n",
       "  </thead>\n",
       "  <tbody>\n",
       "    <tr>\n",
       "      <th>825</th>\n",
       "      <td>acatastasia</td>\n",
       "      <td>True</td>\n",
       "    </tr>\n",
       "    <tr>\n",
       "      <th>1098</th>\n",
       "      <td>aceacenaphthene</td>\n",
       "      <td>True</td>\n",
       "    </tr>\n",
       "    <tr>\n",
       "      <th>4302</th>\n",
       "      <td>ahuehuete</td>\n",
       "      <td>True</td>\n",
       "    </tr>\n",
       "    <tr>\n",
       "      <th>4515</th>\n",
       "      <td>akeake</td>\n",
       "      <td>True</td>\n",
       "    </tr>\n",
       "    <tr>\n",
       "      <th>4854</th>\n",
       "      <td>alchochoden</td>\n",
       "      <td>True</td>\n",
       "    </tr>\n",
       "    <tr>\n",
       "      <th>...</th>\n",
       "      <td>...</td>\n",
       "      <td>...</td>\n",
       "    </tr>\n",
       "    <tr>\n",
       "      <th>230090</th>\n",
       "      <td>wagwag</td>\n",
       "      <td>True</td>\n",
       "    </tr>\n",
       "    <tr>\n",
       "      <th>230603</th>\n",
       "      <td>warwards</td>\n",
       "      <td>True</td>\n",
       "    </tr>\n",
       "    <tr>\n",
       "      <th>233961</th>\n",
       "      <td>xanthopurpurin</td>\n",
       "      <td>True</td>\n",
       "    </tr>\n",
       "    <tr>\n",
       "      <th>235336</th>\n",
       "      <td>Zirianian</td>\n",
       "      <td>True</td>\n",
       "    </tr>\n",
       "    <tr>\n",
       "      <th>235682</th>\n",
       "      <td>zoozoo</td>\n",
       "      <td>True</td>\n",
       "    </tr>\n",
       "  </tbody>\n",
       "</table>\n",
       "<p>515 rows × 2 columns</p>\n",
       "</div>"
      ],
      "text/plain": [
       "                  words  result\n",
       "825         acatastasia    True\n",
       "1098    aceacenaphthene    True\n",
       "4302          ahuehuete    True\n",
       "4515             akeake    True\n",
       "4854        alchochoden    True\n",
       "...                 ...     ...\n",
       "230090           wagwag    True\n",
       "230603         warwards    True\n",
       "233961   xanthopurpurin    True\n",
       "235336        Zirianian    True\n",
       "235682           zoozoo    True\n",
       "\n",
       "[515 rows x 2 columns]"
      ]
     },
     "execution_count": 124,
     "metadata": {},
     "output_type": "execute_result"
    }
   ],
   "source": [
    "# words that contain the same three letter sequence of letters twice or more\n",
    "\n",
    "regexp = r'(\\w{3})\\1+'\n",
    "words['result'] = words.words.str.contains(regexp, regex = True)\n",
    "words[words.result]"
   ]
  }
 ],
 "metadata": {
  "kernelspec": {
   "display_name": "Python 3 (ipykernel)",
   "language": "python",
   "name": "python3"
  },
  "language_info": {
   "codemirror_mode": {
    "name": "ipython",
    "version": 3
   },
   "file_extension": ".py",
   "mimetype": "text/x-python",
   "name": "python",
   "nbconvert_exporter": "python",
   "pygments_lexer": "ipython3",
   "version": "3.9.7"
  }
 },
 "nbformat": 4,
 "nbformat_minor": 5
}
