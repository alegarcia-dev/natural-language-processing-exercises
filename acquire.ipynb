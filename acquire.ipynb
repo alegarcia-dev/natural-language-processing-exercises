{
 "cells": [
  {
   "cell_type": "code",
   "execution_count": 3,
   "id": "19ab2bc6-348a-4a07-8181-f94ddde6d173",
   "metadata": {},
   "outputs": [],
   "source": [
    "import requests\n",
    "\n",
    "import pandas as pd\n",
    "from bs4 import BeautifulSoup"
   ]
  },
  {
   "cell_type": "markdown",
   "id": "b09fb754-76cd-4d83-ae48-40e3177df9bf",
   "metadata": {},
   "source": [
    "# Data Acquisition Exercises\n",
    "\n",
    "## 1\n",
    "\n",
    "Visit Codeup's Blog and record the urls for at least 5 distinct blog posts. For each post, you should scrape at least the post's title and content.\n",
    "\n",
    "Encapsulate your work in a function named get_blog_articles that will return a list of dictionaries, with each dictionary representing one article. The shape of each dictionary should look like this:\n",
    "\n",
    "{\n",
    "    'title': 'the title of the article',\n",
    "    'content': 'the full text content of the article'\n",
    "}\n",
    "\n",
    "Plus any additional properties you think might be helpful.\n",
    "\n",
    "Bonus: Scrape the text of all the articles linked on codeup's blog page."
   ]
  },
  {
   "cell_type": "code",
   "execution_count": 5,
   "id": "cd684026-015a-423c-aaf5-0f21d7c1cac0",
   "metadata": {},
   "outputs": [],
   "source": [
    "# We'll scrape these URLs\n",
    "\n",
    "urls = [\n",
    "    'https://codeup.com/codeup-news/codeups-placement-team-continues-setting-records/',\n",
    "    'https://codeup.com/it-training/what-the-heck-is-system-engineering/',\n",
    "    'https://codeup.com/codeup-news/is-codeup-the-best-bootcamp-in-san-antonio-or-the-world/',\n",
    "    'https://codeup.com/codeup-news/codeup-candidate-for-accreditation/',\n",
    "    'https://codeup.com/tips-for-prospective-students/why-you-need-the-best-coding-bootcamp-instructors/'\n",
    "]"
   ]
  },
  {
   "cell_type": "code",
   "execution_count": 32,
   "id": "115955ec-60d0-4eb6-a505-a42b9372f984",
   "metadata": {},
   "outputs": [],
   "source": [
    "# We'll start with just the first URL and get the response with requests\n",
    "# We'll need to set the user agent header so we can have access to scrape the site\n",
    "\n",
    "headers = {'user-agent' : 'Innis Data Science Cohort'}\n",
    "response = requests.get(urls[0], headers = headers)"
   ]
  },
  {
   "cell_type": "code",
   "execution_count": 33,
   "id": "08aef782-8248-47eb-8eb4-55a116017feb",
   "metadata": {},
   "outputs": [],
   "source": [
    "# Get the HTML using BeautifulSoup\n",
    "soup = BeautifulSoup(response.text, 'html.parser')"
   ]
  },
  {
   "cell_type": "code",
   "execution_count": 34,
   "id": "24ae8deb-b7b0-4616-90c1-222049460e0a",
   "metadata": {},
   "outputs": [
    {
     "data": {
      "text/plain": [
       "'Codeup’s Placement Team Continues Setting Records'"
      ]
     },
     "execution_count": 34,
     "metadata": {},
     "output_type": "execute_result"
    }
   ],
   "source": [
    "# Get the title of the blog post\n",
    "soup.find('h1', class_ = 'entry-title').text"
   ]
  },
  {
   "cell_type": "code",
   "execution_count": 35,
   "id": "a4bf155a-931c-4e29-a5db-8abf2d5171c4",
   "metadata": {},
   "outputs": [
    {
     "data": {
      "text/plain": [
       "'Nov 19, 2021'"
      ]
     },
     "execution_count": 35,
     "metadata": {},
     "output_type": "execute_result"
    }
   ],
   "source": [
    "# Let's also get the date\n",
    "soup.find('p', class_ = 'post-meta').find('span').text"
   ]
  },
  {
   "cell_type": "code",
   "execution_count": 22,
   "id": "7fec3362-a5a7-4f8f-8652-f71956d35d03",
   "metadata": {},
   "outputs": [
    {
     "data": {
      "text/plain": [
       "'\\n\\n\\n\\n\\n\\nOur Placement Team is simply defined as a group that manages relationships with our employer partners and our graduating students to help get our graduating students hired. Last quarter the Placement Team helped 48 students get hired to life-changing careers in tech. Last month our Placement Team has already placed 40 students with top tech companies. For that, we want to send a huge thank you to both our Placement Team and our Employer Partners who have done a tremendous job of helping Codeup empower life change for these students.\\nWho exactly got hired and where? Check out the list below!\\n\\n\\nKirsten Collier – hired at CGI as a Java Developer\\nMichael Baker – hired to CGI as a Java Developer\\nMichael Troia – hired to CDW as an Associate Consulting Engineer\\xa0\\nCarlos Padilla – hired at CGI as a Java Developer\\xa0\\nVictor G. Hernandez – hired at Anderson Marketing Group as a Java Developer\\nNicholas Martinez – hired at Seggazza as a Software Engineer\\xa0\\nJordan Felan – hired at Seggazza as a Software Engineer\\nSavannah Garcia – hired at CGI as a Java Developer\\nRicardo Figueroa – hired at CGI as a Java Developer\\nDemetrio Tovar – hired at CGI as a Java Developer\\nRaul Martinez – hired at CGI as a Java Developer\\nPrachi Phatak – hired at Olo as a Software Engineer II\\xa0\\nJesse Sosa-Leffew – hired at CGI as a Java Developer\\nAmado Azua – hired at CGI as a Java Developer\\nGrady Griffin – hired at Howard.pro as a Software Developer\\nStephen Nguyen – hired at Silotech Group as an Associate Software Developer\\nJoshua Borreli – hired at Silotech Group as an Associate Software Developer\\nErik Ayalasga – hired at Accenture Federal as a Java Developer\\xa0\\nChristopher Espinoza –\\xa0 hired at Silotech Group as an Associate Software Developer\\nCorey Shaw – hired at CGI as a Java Developer\\nSamuel Bowcut – hired at Silotech Group as an Associate Software Developer\\nSean Lewis – hired at Accenture Federal as a Software Engineering Associate\\xa0\\nRobert Sledge – hired at Accenture Federal as a Software Engineering Associate\\nMatthew Walker – hired at Accenture Federal as a Software Engineering Associate\\xa0\\nMatthew Dalton – hired at Oracle as an APEX Developer\\nDustin Martinez – hired at Accenture Federal as a Software Engineering Associate\\xa0\\nKelvon Pointer-Patterson – hired at Accenture Federal as a Java Developer Associate\\xa0\\nKenyon Luce – hired at Accenture Federal as a Java Developer Associate\\nJuan Garcia – hired at Accenture Federal as a Software Engineering Associate\\xa0\\nAlexander Hernando-Avitia – hired at Accenture Federal as a Software Engineering Associate\\xa0\\nJohn Pierce – hired at Accenture Federal as a Software Engineering Associate\\xa0\\nDavid Wagnon – hired at Social Solutions as an Associate Software Engineer\\nEvan Williams – hired at Social Solutions as an Associate Software Engineer\\nRose Barcus – hired at Accenture Federal as a Software Engineering Associate\\nDavid Culver – hired at Accenture Federal as a Software Engineering Associate\\nAustin Whitley – hired at Accenture Federal as a Software Engineering Associate\\nAnna Vu – hired at Sparrow Partners as a Data Scientist\\xa0\\nRoberty Murphy – hired at Lone Star Analysis as an Analysis Professional\\xa0\\nCindy Villanueva – hired at Colorado Community Managed Care Network as a Data Engineer\\xa0\\nMotchell Higue – hired at USAA as a Full Stack Developer\\n\\n\\n\\n\\nCurious what it’s like to hire a Codeup graduate? Check out our hiring process here.\\nWant to land a life changing career like these students did? Check our list of programs offered here.\\n\\n\\n\\n \\n\\n'"
      ]
     },
     "execution_count": 22,
     "metadata": {},
     "output_type": "execute_result"
    }
   ],
   "source": [
    "# Get the body of the blog post\n",
    "soup.find('div', class_ = 'entry-content').text"
   ]
  },
  {
   "cell_type": "code",
   "execution_count": 36,
   "id": "4997e0bb-a4ab-419e-8911-e04e9ac35b13",
   "metadata": {},
   "outputs": [],
   "source": [
    "# Let's see if this works on other blog posts.\n",
    "\n",
    "headers = {'user-agent' : 'Innis Data Science Cohort'}\n",
    "response = requests.get(urls[1], headers = headers)\n",
    "soup = BeautifulSoup(response.text, 'html.parser')"
   ]
  },
  {
   "cell_type": "code",
   "execution_count": 37,
   "id": "e6358681-99f6-4ffa-9852-ea130293afa4",
   "metadata": {},
   "outputs": [
    {
     "data": {
      "text/plain": [
       "'What the Heck is System Engineering?'"
      ]
     },
     "execution_count": 37,
     "metadata": {},
     "output_type": "execute_result"
    }
   ],
   "source": [
    "# Check the title\n",
    "soup.find('h1', class_ = 'entry-title').text"
   ]
  },
  {
   "cell_type": "code",
   "execution_count": 38,
   "id": "d2bcc2df-ecc3-4880-97d6-037b429bb761",
   "metadata": {},
   "outputs": [
    {
     "data": {
      "text/plain": [
       "'Oct 21, 2021'"
      ]
     },
     "execution_count": 38,
     "metadata": {},
     "output_type": "execute_result"
    }
   ],
   "source": [
    "# Check the date\n",
    "soup.find('p', class_ = 'post-meta').find('span').text"
   ]
  },
  {
   "cell_type": "code",
   "execution_count": 25,
   "id": "8cdaa5ff-f5cd-4250-905d-c8e4ce85b9f4",
   "metadata": {},
   "outputs": [
    {
     "data": {
      "text/plain": [
       "'\\n\\n\\n\\n\\n\\nCodeup offers a 13-week training program: Systems Engineering.\\xa0Designed to help you launch your career in tech, this program takes you from 0 experience to IT hero with certifications and hands-on experience in just weeks. But if you’re new to tech, you might be wondering…what is Systems Engineering?\\nWhat is Systems Engineering?\\nIn IT terms, a Systems Engineer (Sysadmin or Sysad for short) is responsible for the configuration, upkeep, and operation of computer systems. They manage things like security, storage, automation, troubleshooting, and a whole lot more. For example, some of the day to day tasks include things like:\\n\\nReviewing system logs for anomalies and issues\\nUpdating operating systems (OS)\\nInstalling new hardware and software\\nManaging user accounts\\nDocumenting information about the system setup\\nManaging file systems\\n\\nYou might be thinking, “Woah, that looks like a lot!” and that’s because it is! A Systems Engineer is a critical piece of IT infrastructure. And in today’s digital age, all companies are IT companies, which means Sysadmins are critical everywhere. You can think of a Sysad as a jack-of-all-trades of what we typically think of as IT. But don’t forget how the old saying actually ends: “A jack of all trades is a master of none, but oftentimes better than a master of none.” So, what are the skills a Sysadmin uses?\\n\\nNetworking – Networking skills include how to configure, maintain, and troubleshoot networks, including using hardware like switches, routers, and firewalls. These skills and concepts are crucial to any systems engineering position. You not only need to understand them but also need some way to prove it. With the Network+ certification, job seekers can come to employers with proof of their networking know-how.\\nLinux- Linux is one of the most popular Operating Systems (OS). It is fully compatible with Mac OS and underpins all Android systems. In fact, the world’s IT infrastructure is run primarily on Linux. Certifications are the primary way technical folks prove their skills and Linux is no different. The CompTIA Linux+ certification is an entry-level certification that proves knowledge and basic technical proficiency in the job role\\nCloud – This involves using servers and tools (i.e. processing and storage hardware) that are based in a different location, instead of on-site. Our program introduces students to cloud concepts like storage, computing, permissions, and more!\\n\\nWhy Become a Systems Engineer?\\nNow you know what a Sysadmin does and what skills they use. But why become a Sysadmin? The world is increasingly dependent on computer systems and their underlying technologies. Configuring computer software, designing innovative solutions for specific problems, and basic troubleshooting skills are more and more in demand each year.\\xa0 Without systems engineers, the technical world would stop innovating and become stagnant.\\n\\nThey are in demand! Companies rely on Sysadmins to keep all their IT running\\nYou’ll become a tech guru! You won’t just be the person who can fix the printer. You’ll also be the person who can script, work with servers, navigate AWS Cloud tools, and work on modern web technologies.\\nYou can specialize! With the breadth of knowledge you’ll obtain, you can have a specialized career in IT. Just hone in on one of your interests, whether it’s security, cloud, databases, or something that doesn’t even exist yet!\\n\\nInterested in learning more? Sign up for our Network Fundamentals Crash Course to get a taste for these skills – a $500 value you can get for free!Ready to go all-in? Apply to our 13-week Systems Engineering program where you’ll earn your Network+ and Linux+ certifications, along with skills in AWS, LAMP, Microsoft, and more!\\n\\n\\n\\n \\n\\n'"
      ]
     },
     "execution_count": 25,
     "metadata": {},
     "output_type": "execute_result"
    }
   ],
   "source": [
    "# Check the blog contents\n",
    "soup.find('div', class_ = 'entry-content').text"
   ]
  },
  {
   "cell_type": "code",
   "execution_count": 40,
   "id": "00f4b260-132c-4844-9481-925e02f2a607",
   "metadata": {},
   "outputs": [],
   "source": [
    "# Let's try one more\n",
    "\n",
    "headers = {'user-agent' : 'Innis Data Science Cohort'}\n",
    "response = requests.get(urls[2], headers = headers)\n",
    "soup = BeautifulSoup(response.text, 'html.parser')"
   ]
  },
  {
   "cell_type": "code",
   "execution_count": 41,
   "id": "0b047fa3-ebb1-4cb4-a5ef-bf9bc39506df",
   "metadata": {},
   "outputs": [
    {
     "data": {
      "text/plain": [
       "'Is Codeup the Best Bootcamp in San Antonio…or the World?'"
      ]
     },
     "execution_count": 41,
     "metadata": {},
     "output_type": "execute_result"
    }
   ],
   "source": [
    "# Check the title\n",
    "soup.find('h1', class_ = 'entry-title').text"
   ]
  },
  {
   "cell_type": "code",
   "execution_count": 42,
   "id": "4a6c1fcc-b84c-4822-b514-e23f2b276db6",
   "metadata": {},
   "outputs": [
    {
     "data": {
      "text/plain": [
       "'Sep 16, 2021'"
      ]
     },
     "execution_count": 42,
     "metadata": {},
     "output_type": "execute_result"
    }
   ],
   "source": [
    "# Check the date\n",
    "soup.find('p', class_ = 'post-meta').find('span').text"
   ]
  },
  {
   "cell_type": "code",
   "execution_count": 28,
   "id": "ae27bb02-89b1-4824-9811-2a9f54ebecd7",
   "metadata": {},
   "outputs": [
    {
     "data": {
      "text/plain": [
       "'\\n\\n\\n\\n\\n\\nLooking for the best data science bootcamp in the world? Or how about the best coding bootcamp in San Antonio? If you’re reading this, you’ve found both! We are thrilled to announce that Codeup has been chosen as a Best Data Science Bootcamp of 2021 by Course Report, and a Best San Antonio Coding Bootcamp 2021 by Career Karma.\\nBest Data Science Bootcamp in the World\\nCourse Report is a leading authority in ranking and reviewing bootcamps. Every year, they compile a list of the Best Data Science Bootcamps in the world. Codeup made the 2021 list, along with 21 other bootcamps, for our Data Science program. Why? Course Report considers alumni and student reviews, financing options, outcome transparency, and duration of the program.\\xa0More on how Codeup performs in each of those categories below!\\nBest Coding Bootcamp in San Antonio\\nThe folks at Career Karma are experts on what the best bootcamps are for various tech careers. They’ve recently identified the 10 Best Coding Bootcamps in San Antonio in 2021 with Codeup in the top 5 for our Web Development program.\\xa0Also on the list is Open Cloud Academy, which is now Codeup Cloud Academy (CCA), owned and operated by us. The CCA programs recognized are cybersecurity and Systems Engineering.\\nWhy Codeup?\\nHere are a few reasons why Codeup is one of the best bootcamps in San Antonio and the world:\\n\\u3000\\u3000• Students and alumni gave an average rating of 4.69 stars on Course Report\\u3000\\u3000• 6 financing partners believe in our program so much that they offer aid to our students, including VA benefits for our veterans\\u3000\\u3000• Data Science grads earn a median starting salary of about $70,000 with high placement rates\\xa0\\u3000\\u3000• Web Development grads earn a median starting salary that’s above the local, state, and nationwide averages for entry-level developers at about $45,500\\u3000\\u3000• The intensive programs need 22 weeks (5-6 months) to cover a robust curriculum that’s catered to employers\\u3000\\u3000• The instructors have decades of prior industry experience and are invested in each student’s learning and success\\nThese awards are huge for the security and confidence they provide our students and employer partners. If you’re an employer looking to hire from the best bootcamp, now you know where to find high-quality talent. If you’re interested in a career change into tech, now you know where to apply to get the best experience. \\nSpecial shoutouts are in order to every single person on our incredible staff. It is an honor to be recognized not just locally, but globally! If you’d like to work at an award-winning institution, now you know where you can join a well-oiled machine and make a huge impact. We’re hiring! \\n\\n\\n\\n \\n\\n'"
      ]
     },
     "execution_count": 28,
     "metadata": {},
     "output_type": "execute_result"
    }
   ],
   "source": [
    "# Check the blog contents\n",
    "soup.find('div', class_ = 'entry-content').text"
   ]
  },
  {
   "cell_type": "markdown",
   "id": "20053269-0acb-4032-b3ab-d9cf8bb2bd74",
   "metadata": {},
   "source": [
    "Everything looks good. Let's put this all into a function."
   ]
  },
  {
   "cell_type": "code",
   "execution_count": 84,
   "id": "8ff4db84-2a4f-4334-b96c-b77e3ea587a0",
   "metadata": {},
   "outputs": [],
   "source": [
    "def get_blog_articles(urls):\n",
    "    articles = []\n",
    "    headers = {'user-agent' : 'Innis Data Science Cohort'}\n",
    "    \n",
    "    for url in urls:\n",
    "        try:\n",
    "            response = requests.get(url, headers = headers)\n",
    "        except requests.exceptions.RequestException:\n",
    "            continue\n",
    "            \n",
    "        soup = BeautifulSoup(response.text, 'html.parser')\n",
    "        \n",
    "        if url == response.url:\n",
    "            articles.append({\n",
    "                'title' : soup.find('h1', class_ = 'entry-title').text,\n",
    "                'date' : soup.find('p', class_ = 'post-meta').find('span').text,\n",
    "                'content' : soup.find('div', class_ = 'entry-content').text.strip()\n",
    "            })\n",
    "        \n",
    "    return articles"
   ]
  },
  {
   "cell_type": "code",
   "execution_count": 78,
   "id": "6dc1cda5-a9e1-43e8-ba49-24b84c62409e",
   "metadata": {},
   "outputs": [
    {
     "data": {
      "text/html": [
       "<div>\n",
       "<style scoped>\n",
       "    .dataframe tbody tr th:only-of-type {\n",
       "        vertical-align: middle;\n",
       "    }\n",
       "\n",
       "    .dataframe tbody tr th {\n",
       "        vertical-align: top;\n",
       "    }\n",
       "\n",
       "    .dataframe thead th {\n",
       "        text-align: right;\n",
       "    }\n",
       "</style>\n",
       "<table border=\"1\" class=\"dataframe\">\n",
       "  <thead>\n",
       "    <tr style=\"text-align: right;\">\n",
       "      <th></th>\n",
       "      <th>title</th>\n",
       "      <th>date</th>\n",
       "      <th>content</th>\n",
       "    </tr>\n",
       "  </thead>\n",
       "  <tbody>\n",
       "    <tr>\n",
       "      <th>0</th>\n",
       "      <td>Codeup’s Placement Team Continues Setting Records</td>\n",
       "      <td>Nov 19, 2021</td>\n",
       "      <td>Our Placement Team is simply defined as a grou...</td>\n",
       "    </tr>\n",
       "    <tr>\n",
       "      <th>1</th>\n",
       "      <td>What the Heck is System Engineering?</td>\n",
       "      <td>Oct 21, 2021</td>\n",
       "      <td>Codeup offers a 13-week training program: Syst...</td>\n",
       "    </tr>\n",
       "    <tr>\n",
       "      <th>2</th>\n",
       "      <td>Is Codeup the Best Bootcamp in San Antonio…or ...</td>\n",
       "      <td>Sep 16, 2021</td>\n",
       "      <td>Looking for the best data science bootcamp in ...</td>\n",
       "    </tr>\n",
       "    <tr>\n",
       "      <th>3</th>\n",
       "      <td>Announcing our Candidacy for Accreditation!</td>\n",
       "      <td>Jun 30, 2021</td>\n",
       "      <td>Did you know that even though we’re an indepen...</td>\n",
       "    </tr>\n",
       "    <tr>\n",
       "      <th>4</th>\n",
       "      <td>Why You Need the Best Coding Bootcamp Instructors</td>\n",
       "      <td>May 21, 2021</td>\n",
       "      <td>One of the many reasons students love Codeup i...</td>\n",
       "    </tr>\n",
       "  </tbody>\n",
       "</table>\n",
       "</div>"
      ],
      "text/plain": [
       "                                               title          date  \\\n",
       "0  Codeup’s Placement Team Continues Setting Records  Nov 19, 2021   \n",
       "1               What the Heck is System Engineering?  Oct 21, 2021   \n",
       "2  Is Codeup the Best Bootcamp in San Antonio…or ...  Sep 16, 2021   \n",
       "3        Announcing our Candidacy for Accreditation!  Jun 30, 2021   \n",
       "4  Why You Need the Best Coding Bootcamp Instructors  May 21, 2021   \n",
       "\n",
       "                                             content  \n",
       "0  Our Placement Team is simply defined as a grou...  \n",
       "1  Codeup offers a 13-week training program: Syst...  \n",
       "2  Looking for the best data science bootcamp in ...  \n",
       "3  Did you know that even though we’re an indepen...  \n",
       "4  One of the many reasons students love Codeup i...  "
      ]
     },
     "execution_count": 78,
     "metadata": {},
     "output_type": "execute_result"
    }
   ],
   "source": [
    "# Let's test it\n",
    "pd.DataFrame(get_blog_articles(urls))"
   ]
  },
  {
   "cell_type": "markdown",
   "id": "3d2c5eb2-7659-4e41-805c-baa9d1b1c379",
   "metadata": {},
   "source": [
    "### Bonus"
   ]
  },
  {
   "cell_type": "code",
   "execution_count": 47,
   "id": "9b4721ac-8b8e-4f5e-a14c-afd70ced9d5e",
   "metadata": {},
   "outputs": [],
   "source": [
    "# Now let's try grabbing the URLs for all blog posts on the Codeup blog page\n",
    "\n",
    "url = 'https://codeup.com/blog/'\n",
    "response = requests.get(url, headers = headers)\n",
    "soup = BeautifulSoup(response.text, 'html.parser')"
   ]
  },
  {
   "cell_type": "code",
   "execution_count": 55,
   "id": "3de9fdee-b0dd-41f5-b4eb-59a7a15820ac",
   "metadata": {},
   "outputs": [
    {
     "name": "stdout",
     "output_type": "stream",
     "text": [
      "https://codeup.com/workshops/from-bootcamp-to-bootcamp-a-military-appreciation-panel/\n",
      "https://codeup.com/featured/our-acquisition-of-the-rackspace-cloud-academy-one-year-later/\n",
      "https://codeup.com/workshops/virtual/learn-to-code-html-css-on-4-30/\n",
      "https://codeup.com/workshops/virtual/learn-to-code-python-workshop-on-4-16/\n",
      "https://codeup.com/codeup-news/coming-soon-cloud-administration/\n",
      "https://codeup.com/featured/5-books-every-woman-in-tech-should-read/\n",
      "https://codeup.com/codeup-news/codeup-start-dates-for-march-2022/\n",
      "https://codeup.com/codeup-news/vet-tec-funding-dallas/\n",
      "https://codeup.com/codeup-news/dallas-campus-re-opens-with-new-grant-partner/\n",
      "https://codeup.com/codeup-news/codeups-placement-team-continues-setting-records/\n",
      "https://codeup.com/it-training/it-certifications-101/\n",
      "https://codeup.com/cybersecurity/a-rise-in-cyber-attacks-means-opportunities-for-veterans-in-san-antonio/\n",
      "https://codeup.com/codeup-news/use-your-gi-bill-benefits-to-land-a-job-in-tech/\n",
      "https://codeup.com/tips-for-prospective-students/which-program-is-right-for-me-cyber-security-or-systems-engineering/\n",
      "https://codeup.com/it-training/what-the-heck-is-system-engineering/\n",
      "https://codeup.com/alumni-stories/from-speech-pathology-to-business-intelligence/\n",
      "https://codeup.com/behind-the-billboards/boris-behind-the-billboards/\n",
      "https://codeup.com/codeup-news/is-codeup-the-best-bootcamp-in-san-antonio-or-the-world/\n"
     ]
    }
   ],
   "source": [
    "# We'll search for all article elements and grab the href from the a element associated with the article\n",
    "for article in soup.find_all('article'):\n",
    "    print(article.find('a')['href'])"
   ]
  },
  {
   "cell_type": "code",
   "execution_count": 66,
   "id": "410a8814-63da-44c5-948a-7997e86333bd",
   "metadata": {},
   "outputs": [
    {
     "data": {
      "text/plain": [
       "'https://codeup.com/blog/page/3/?et_blog'"
      ]
     },
     "execution_count": 66,
     "metadata": {},
     "output_type": "execute_result"
    }
   ],
   "source": [
    "# Let's try grabbing the Older Entries link\n",
    "link = soup.find('a', string = '« Older Entries')['href']\n",
    "link"
   ]
  },
  {
   "cell_type": "code",
   "execution_count": 63,
   "id": "e7d99a85-2683-4302-b486-3ab5e683627a",
   "metadata": {},
   "outputs": [],
   "source": [
    "# Now let's see what we get when we try scraping the Older Entries link\n",
    "response = requests.get(link, headers = headers)\n",
    "soup = BeautifulSoup(response.text, 'html.parser')"
   ]
  },
  {
   "cell_type": "code",
   "execution_count": 64,
   "id": "fafe9e55-b9e6-4103-8026-7244cba27882",
   "metadata": {},
   "outputs": [
    {
     "name": "stdout",
     "output_type": "stream",
     "text": [
      "https://codeup.com/workshops/virtual/learn-to-code-python-workshop-on-4-16/\n",
      "https://codeup.com/codeup-news/coming-soon-cloud-administration/\n",
      "https://codeup.com/featured/5-books-every-woman-in-tech-should-read/\n",
      "https://codeup.com/codeup-news/codeup-launches-first-podcast-hire-tech/\n",
      "https://codeup.com/tips-for-prospective-students/why-should-i-become-a-system-administrator/\n",
      "https://codeup.com/codeup-news/codeup-candidate-for-accreditation/\n",
      "https://codeup.com/codeup-news/codeup-takes-over-more-of-the-historic-vogue-building/\n",
      "https://codeup.com/codeup-news/inclusion-at-codeup-during-pride-month-and-always/\n",
      "https://codeup.com/tips-for-prospective-students/why-you-need-the-best-coding-bootcamp-instructors/\n",
      "https://codeup.com/codeup-news/meet-the-new-codeup-coo-stephen-noteboom/\n",
      "https://codeup.com/alumni-stories/how-i-went-from-codeup-to-business-owner/\n",
      "https://codeup.com/tips-for-prospective-students/coding-is-for-women/\n",
      "https://codeup.com/codeup-news/codeup-acquires-rackspace-cloud-academy/\n",
      "https://codeup.com/tips-for-prospective-students/what-are-the-best-jobs-in-2021/\n",
      "https://codeup.com/codeup-news/meet-our-new-vp-of-delivery-marty-sixkiller/\n",
      "https://codeup.com/codeup-news/start-a-new-career-with-vet-tec/\n",
      "https://codeup.com/codeup-news/how-to-hire-for-the-long-haul/\n",
      "https://codeup.com/codeup-news/know-who-youre-hiring/\n"
     ]
    }
   ],
   "source": [
    "# Let's get all the links on this page\n",
    "for article in soup.find_all('article'):\n",
    "    print(article.find('a')['href'])"
   ]
  },
  {
   "cell_type": "markdown",
   "id": "79dc1c50-2088-4c41-af6d-a480d66ac08f",
   "metadata": {},
   "source": [
    "There are a few duplicates in the list, but otherwise it worked as expected. We'll create a loop that keeps grabbing the Older Entries link until it no longer is present, for each link we'll grab all the article links and put everything into a list. Once we have the list of links we'll convert the list into a set to remove all the duplicates and pass this set into the get_blog_articles function."
   ]
  },
  {
   "cell_type": "code",
   "execution_count": 71,
   "id": "8a3f3142-e4b8-4ce0-a21d-5a3608dd0cf5",
   "metadata": {},
   "outputs": [],
   "source": [
    "def get_all_blog_articles():\n",
    "    url = 'https://codeup.com/blog/'\n",
    "    links = get_all_article_links(url)\n",
    "    return get_blog_articles(set(links))\n",
    "\n",
    "def get_all_article_links(url):\n",
    "    links = []\n",
    "    headers = {'user-agent' : 'Innis Data Science Cohort'}\n",
    "    response = requests.get(url, headers = headers)\n",
    "    soup = BeautifulSoup(response.text, 'html.parser')\n",
    "    \n",
    "    for article in soup.find_all('article'):\n",
    "        links.append(article.find('a')['href'])\n",
    "        \n",
    "    if (link := soup.find('a', string = '« Older Entries')):\n",
    "        links += get_all_article_links(link['href'])\n",
    "    \n",
    "    return links"
   ]
  },
  {
   "cell_type": "code",
   "execution_count": 85,
   "id": "1337b60a-5940-48c9-b3a4-a9bcbb9e6fca",
   "metadata": {},
   "outputs": [
    {
     "data": {
      "text/html": [
       "<div>\n",
       "<style scoped>\n",
       "    .dataframe tbody tr th:only-of-type {\n",
       "        vertical-align: middle;\n",
       "    }\n",
       "\n",
       "    .dataframe tbody tr th {\n",
       "        vertical-align: top;\n",
       "    }\n",
       "\n",
       "    .dataframe thead th {\n",
       "        text-align: right;\n",
       "    }\n",
       "</style>\n",
       "<table border=\"1\" class=\"dataframe\">\n",
       "  <thead>\n",
       "    <tr style=\"text-align: right;\">\n",
       "      <th></th>\n",
       "      <th>title</th>\n",
       "      <th>date</th>\n",
       "      <th>content</th>\n",
       "    </tr>\n",
       "  </thead>\n",
       "  <tbody>\n",
       "    <tr>\n",
       "      <th>0</th>\n",
       "      <td>What is the Value of a Codeup Education?</td>\n",
       "      <td>Aug 14, 2018</td>\n",
       "      <td>What is the Value of a Codeup Education?\\nThis...</td>\n",
       "    </tr>\n",
       "    <tr>\n",
       "      <th>1</th>\n",
       "      <td>What are the Best Jobs in 2021?</td>\n",
       "      <td>Apr 13, 2021</td>\n",
       "      <td>Every year, Glassdoor names the 50 Best Jobs i...</td>\n",
       "    </tr>\n",
       "    <tr>\n",
       "      <th>2</th>\n",
       "      <td>A Guide to Hiring Fresh Technical Talent</td>\n",
       "      <td>Aug 14, 2018</td>\n",
       "      <td>A Guide to Hiring Fresh Technical Talent\\nWe’v...</td>\n",
       "    </tr>\n",
       "    <tr>\n",
       "      <th>3</th>\n",
       "      <td>Do You Know Who You’re Hiring?</td>\n",
       "      <td>Mar 23, 2021</td>\n",
       "      <td>Hiring developers is always a lottery – it’s j...</td>\n",
       "    </tr>\n",
       "    <tr>\n",
       "      <th>4</th>\n",
       "      <td>Codeup Launches a Houston Bootcamp!</td>\n",
       "      <td>Oct 26, 2020</td>\n",
       "      <td>Houston, we have a problem: there aren’t enoug...</td>\n",
       "    </tr>\n",
       "    <tr>\n",
       "      <th>...</th>\n",
       "      <td>...</td>\n",
       "      <td>...</td>\n",
       "      <td>...</td>\n",
       "    </tr>\n",
       "    <tr>\n",
       "      <th>215</th>\n",
       "      <td>Codeup Takes Over More of the Historic Vogue B...</td>\n",
       "      <td>Jun 21, 2021</td>\n",
       "      <td>Codeup is moving into another floor of our His...</td>\n",
       "    </tr>\n",
       "    <tr>\n",
       "      <th>216</th>\n",
       "      <td>Open for (Bitcoin) Business</td>\n",
       "      <td>Aug 14, 2018</td>\n",
       "      <td>Open for (Bitcoin) Business\\nAt Codeup, we gui...</td>\n",
       "    </tr>\n",
       "    <tr>\n",
       "      <th>217</th>\n",
       "      <td>My Experience at Codeup: Mario M. #2</td>\n",
       "      <td>Aug 14, 2018</td>\n",
       "      <td>My Experience at Codeup: Mario M. #2\\nPrevious...</td>\n",
       "    </tr>\n",
       "    <tr>\n",
       "      <th>218</th>\n",
       "      <td>Alumni Share their Journey into Web Development</td>\n",
       "      <td>Jul 7, 2020</td>\n",
       "      <td>Everyone starts somewhere. Many developers out...</td>\n",
       "    </tr>\n",
       "    <tr>\n",
       "      <th>219</th>\n",
       "      <td>How Codeup Prepared Me for a Career</td>\n",
       "      <td>Nov 28, 2018</td>\n",
       "      <td>By Joyce Yueh Yueh Ling\\nIn four months, a lot...</td>\n",
       "    </tr>\n",
       "  </tbody>\n",
       "</table>\n",
       "<p>220 rows × 3 columns</p>\n",
       "</div>"
      ],
      "text/plain": [
       "                                                 title          date  \\\n",
       "0             What is the Value of a Codeup Education?  Aug 14, 2018   \n",
       "1                      What are the Best Jobs in 2021?  Apr 13, 2021   \n",
       "2             A Guide to Hiring Fresh Technical Talent  Aug 14, 2018   \n",
       "3                       Do You Know Who You’re Hiring?  Mar 23, 2021   \n",
       "4                  Codeup Launches a Houston Bootcamp!  Oct 26, 2020   \n",
       "..                                                 ...           ...   \n",
       "215  Codeup Takes Over More of the Historic Vogue B...  Jun 21, 2021   \n",
       "216                        Open for (Bitcoin) Business  Aug 14, 2018   \n",
       "217               My Experience at Codeup: Mario M. #2  Aug 14, 2018   \n",
       "218    Alumni Share their Journey into Web Development   Jul 7, 2020   \n",
       "219                How Codeup Prepared Me for a Career  Nov 28, 2018   \n",
       "\n",
       "                                               content  \n",
       "0    What is the Value of a Codeup Education?\\nThis...  \n",
       "1    Every year, Glassdoor names the 50 Best Jobs i...  \n",
       "2    A Guide to Hiring Fresh Technical Talent\\nWe’v...  \n",
       "3    Hiring developers is always a lottery – it’s j...  \n",
       "4    Houston, we have a problem: there aren’t enoug...  \n",
       "..                                                 ...  \n",
       "215  Codeup is moving into another floor of our His...  \n",
       "216  Open for (Bitcoin) Business\\nAt Codeup, we gui...  \n",
       "217  My Experience at Codeup: Mario M. #2\\nPrevious...  \n",
       "218  Everyone starts somewhere. Many developers out...  \n",
       "219  By Joyce Yueh Yueh Ling\\nIn four months, a lot...  \n",
       "\n",
       "[220 rows x 3 columns]"
      ]
     },
     "execution_count": 85,
     "metadata": {},
     "output_type": "execute_result"
    }
   ],
   "source": [
    "# Let's test it\n",
    "pd.DataFrame(get_all_blog_articles())"
   ]
  },
  {
   "cell_type": "markdown",
   "id": "e0ed9fe6-734e-416d-a9f1-ecfda51c3c07",
   "metadata": {},
   "source": [
    "### Put in a Module\n",
    "\n",
    "Now let's put all this acquisition code into a module and test it."
   ]
  },
  {
   "cell_type": "code",
   "execution_count": 98,
   "id": "b93dbcfe-ab9a-479c-84d5-a3d593de8f8f",
   "metadata": {},
   "outputs": [],
   "source": [
    "from acquire import get_codeup_blog"
   ]
  },
  {
   "cell_type": "code",
   "execution_count": 100,
   "id": "fd0dcb93-d438-4f7e-9566-fcbbcdc2d0f0",
   "metadata": {},
   "outputs": [
    {
     "name": "stdout",
     "output_type": "stream",
     "text": [
      "<class 'pandas.core.frame.DataFrame'>\n",
      "RangeIndex: 220 entries, 0 to 219\n",
      "Data columns (total 3 columns):\n",
      " #   Column   Non-Null Count  Dtype \n",
      "---  ------   --------------  ----- \n",
      " 0   title    220 non-null    object\n",
      " 1   date     220 non-null    object\n",
      " 2   content  218 non-null    object\n",
      "dtypes: object(3)\n",
      "memory usage: 5.3+ KB\n"
     ]
    }
   ],
   "source": [
    "# Let's test the function to make sure it works\n",
    "acquire.get_codeup_blog().info()"
   ]
  },
  {
   "cell_type": "markdown",
   "id": "3c606bf5-469e-4b57-96c7-4bf199c901fa",
   "metadata": {},
   "source": [
    "## 2\n",
    "\n",
    "We will now be scraping text data from inshorts, a website that provides a brief overview of many different topics.\n",
    "\n",
    "Write a function that scrapes the news articles for the following topics:\n",
    "\n",
    "- Business\n",
    "- Sports\n",
    "- Technology\n",
    "- Entertainment\n",
    "\n",
    "The end product of this should be a function named get_news_articles that returns a list of dictionaries, where each dictionary has this shape:\n",
    "\n",
    "{\n",
    "    'title': 'The article title',\n",
    "    'content': 'The article content',\n",
    "    'category': 'business' # for example\n",
    "}"
   ]
  },
  {
   "cell_type": "markdown",
   "id": "d1952b70-0b4e-47b1-a84d-ab241e305f17",
   "metadata": {},
   "source": [
    "### Get Info From One Article\n",
    "\n",
    "Let's start by getting the information we need from just one article."
   ]
  },
  {
   "cell_type": "code",
   "execution_count": 101,
   "id": "f5223182-5a06-492b-9741-54e29a7ead1d",
   "metadata": {},
   "outputs": [],
   "source": [
    "# Let's grab the HTML for a single article\n",
    "\n",
    "url = 'https://inshorts.com/en/news/lt-infotech-announces-merger-with-mindtree-1651834439520'\n",
    "response = requests.get(url)\n",
    "soup = BeautifulSoup(response.text, 'html.parser')"
   ]
  },
  {
   "cell_type": "code",
   "execution_count": 104,
   "id": "6fbc31ac-17fe-42ae-a567-3d6c9e0e500a",
   "metadata": {},
   "outputs": [
    {
     "data": {
      "text/plain": [
       "'L&T Infotech announces merger with Mindtree'"
      ]
     },
     "execution_count": 104,
     "metadata": {},
     "output_type": "execute_result"
    }
   ],
   "source": [
    "# Let's try getting the title\n",
    "\n",
    "soup.find('div', class_ = 'news-card-title').find('span').text"
   ]
  },
  {
   "cell_type": "code",
   "execution_count": 107,
   "id": "3e2a9457-469b-45a8-8376-3c075f8b5cf4",
   "metadata": {},
   "outputs": [
    {
     "data": {
      "text/plain": [
       "\"Larsen & Toubro Infotech (L&T Infotech) on Friday announced that its board has approved a scheme of amalgamation and arrangement with Mindtree. Under the scheme, L&T Infotech will issue 73 shares for every 100 shares of Mindtree. After the completion of the merger, Larsen & Toubro Limited will hold a 68.73% stake in 'LTIMindtree', the combined entity.\""
      ]
     },
     "execution_count": 107,
     "metadata": {},
     "output_type": "execute_result"
    }
   ],
   "source": [
    "# Next let's try getting the content\n",
    "\n",
    "soup.find('div', class_ = 'news-card-content').find('div').text"
   ]
  },
  {
   "cell_type": "markdown",
   "id": "adfd31c7-4329-4439-99bf-cc0dab2a5ff6",
   "metadata": {},
   "source": [
    "The category can be filled in with a function parameter. We'll pass it in as we go through each category page. Let's try this on a few more articles to see if it works."
   ]
  },
  {
   "cell_type": "code",
   "execution_count": 108,
   "id": "f2003c78-e973-4ea5-8661-93f4bff95f96",
   "metadata": {},
   "outputs": [],
   "source": [
    "# Let's try this one\n",
    "\n",
    "url = 'https://inshorts.com/en/news/indias-covid19-death-numbers-quite-a-bit-lower-than-rich-countries-bill-gates-1651858819621'\n",
    "response = requests.get(url)\n",
    "soup = BeautifulSoup(response.text, 'html.parser')"
   ]
  },
  {
   "cell_type": "code",
   "execution_count": 109,
   "id": "66283e1f-b6e6-4332-831c-ee3a38a99155",
   "metadata": {},
   "outputs": [
    {
     "data": {
      "text/plain": [
       "\"India's COVID-19 death numbers quite a bit lower than rich countries: Bill Gates\""
      ]
     },
     "execution_count": 109,
     "metadata": {},
     "output_type": "execute_result"
    }
   ],
   "source": [
    "# Let's try getting the title\n",
    "\n",
    "soup.find('div', class_ = 'news-card-title').find('span').text"
   ]
  },
  {
   "cell_type": "code",
   "execution_count": 110,
   "id": "456fb1fa-5b60-4493-ab7f-598a8c972121",
   "metadata": {},
   "outputs": [
    {
     "data": {
      "text/plain": [
       "'India\\'s COVID-19 death numbers are \"quite a bit lower than rich countries\", Microsoft Co-founder Bill Gates said in an interview with Times Now. He, however, admitted that there is \"some debate over what those numbers are\". On being asked how he would rate India\\'s COVID-19 response on a scale of 1-10, Gates said, \"I\\'ll give India seven or eight.\"'"
      ]
     },
     "execution_count": 110,
     "metadata": {},
     "output_type": "execute_result"
    }
   ],
   "source": [
    "# Let's try getting the content\n",
    "\n",
    "soup.find('div', class_ = 'news-card-content').find('div').text"
   ]
  },
  {
   "cell_type": "code",
   "execution_count": 111,
   "id": "7b8c6702-3b8d-4cd1-9361-d37b04e75a0a",
   "metadata": {},
   "outputs": [],
   "source": [
    "# Let's try one more.\n",
    "\n",
    "url = 'https://inshorts.com/en/news/mi-hand-gt-their-2nd-loss-in-a-row-as-daniel-sams-defends-9-runs-in-last-over-1651860324419'\n",
    "response = requests.get(url)\n",
    "soup = BeautifulSoup(response.text, 'html.parser')"
   ]
  },
  {
   "cell_type": "code",
   "execution_count": 112,
   "id": "d846f23a-9698-412a-8c13-f5fff3e55125",
   "metadata": {},
   "outputs": [
    {
     "data": {
      "text/plain": [
       "'MI hand GT their 2nd loss in a row as Daniel Sams defends 9 runs in last over'"
      ]
     },
     "execution_count": 112,
     "metadata": {},
     "output_type": "execute_result"
    }
   ],
   "source": [
    "# Let's try getting the title\n",
    "\n",
    "soup.find('div', class_ = 'news-card-title').find('span').text"
   ]
  },
  {
   "cell_type": "code",
   "execution_count": 113,
   "id": "49831e37-19aa-4642-bbd0-72d328f1066a",
   "metadata": {},
   "outputs": [
    {
     "data": {
      "text/plain": [
       "\"Mumbai Indians (MI) defeated Gujarat Titans (GT) by five runs to register their second win in a row in IPL 2022. MI pacer Daniel Sams defended nine runs in the last over as GT suffered their second straight defeat in the tournament. Ishan Kishan top-scored for MI with 45(29), while MI's Murugan Ashwin took two wickets in the match.\""
      ]
     },
     "execution_count": 113,
     "metadata": {},
     "output_type": "execute_result"
    }
   ],
   "source": [
    "# Let's try getting the content\n",
    "\n",
    "soup.find('div', class_ = 'news-card-content').find('div').text"
   ]
  },
  {
   "cell_type": "markdown",
   "id": "352b2b33-79dd-4fd5-8176-110e34caca66",
   "metadata": {},
   "source": [
    "It looks like it works. Let's put this in a function."
   ]
  },
  {
   "cell_type": "code",
   "execution_count": 114,
   "id": "a31d9fc0-90e3-4747-ba82-a68d66cd3650",
   "metadata": {},
   "outputs": [],
   "source": [
    "def get_article_info(url, category):\n",
    "    response = requests.get(url)\n",
    "    soup = BeautifulSoup(response.text, 'html.parser')\n",
    "\n",
    "    return {\n",
    "        'title' : soup.find('div', class_ = 'news-card-title').find('span').text,\n",
    "        'content' : soup.find('div', class_ = 'news-card-content').find('div').text,\n",
    "        'category' : category\n",
    "    }"
   ]
  },
  {
   "cell_type": "code",
   "execution_count": 115,
   "id": "9b224d12-53a3-4b3c-ab9f-cf4aa6b9381c",
   "metadata": {},
   "outputs": [
    {
     "data": {
      "text/plain": [
       "{'title': 'MI hand GT their 2nd loss in a row as Daniel Sams defends 9 runs in last over',\n",
       " 'content': \"Mumbai Indians (MI) defeated Gujarat Titans (GT) by five runs to register their second win in a row in IPL 2022. MI pacer Daniel Sams defended nine runs in the last over as GT suffered their second straight defeat in the tournament. Ishan Kishan top-scored for MI with 45(29), while MI's Murugan Ashwin took two wickets in the match.\",\n",
       " 'category': 'sports'}"
      ]
     },
     "execution_count": 115,
     "metadata": {},
     "output_type": "execute_result"
    }
   ],
   "source": [
    "# Let's test it\n",
    "\n",
    "url = 'https://inshorts.com/en/news/mi-hand-gt-their-2nd-loss-in-a-row-as-daniel-sams-defends-9-runs-in-last-over-1651860324419'\n",
    "get_article_info(url, 'sports')"
   ]
  },
  {
   "cell_type": "markdown",
   "id": "1574d94a-9245-4fcf-841c-1c545057a485",
   "metadata": {},
   "source": [
    "### Find All Articles on a Single Page\n",
    "\n",
    "Now let's try getting all the article links for a single category page."
   ]
  },
  {
   "cell_type": "code",
   "execution_count": 116,
   "id": "2ffe723c-b821-41e3-ba73-66d552e7112b",
   "metadata": {},
   "outputs": [],
   "source": [
    "# Let's get the HTML for one category page.\n",
    "\n",
    "url = 'https://inshorts.com/en/read/sports'\n",
    "response = requests.get(url)\n",
    "soup = BeautifulSoup(response.text, 'html.parser')"
   ]
  },
  {
   "cell_type": "code",
   "execution_count": 118,
   "id": "4f3ed77b-e8a1-4014-b4eb-e4c79d656f71",
   "metadata": {},
   "outputs": [
    {
     "name": "stdout",
     "output_type": "stream",
     "text": [
      "/en/news/ranveer-singh-celebrates-rohit-sharmas-six-at-ipl-match-mi-share-pic-1651857768862\n",
      "/en/news/mi-hand-gt-their-2nd-loss-in-a-row-as-daniel-sams-defends-9-runs-in-last-over-1651860324419\n",
      "/en/news/he-began-to-cry-hadnt-eaten-lunch-for-a-year-coach-on-mis-kartikeyas-struggle-1651857780847\n",
      "/en/news/ben-stokes-records-most-sixes-in-a-firstclass-innings-in-england-1651850503390\n",
      "/en/news/tabletoppers-gt-to-bowl-first-against-bottomplaced-mi-playing-xis-announced-1651844543174\n",
      "/en/news/which-are-the-top-5-fastest-deliveries-in-ipl-history-1651839854470\n",
      "/en/news/ben-stokes-smashes-8-sixes-in-10-balls-in-county-match-1651842844868\n",
      "/en/news/pat-cummins-shares-pic-of-pav-bhaji-says-how-had-i-never-tried-it-before-1651846136205\n",
      "/en/news/sourav-ganguly-hosts-amit-shah-for-dinner-at-his-kolkata-residence-1651858146978\n",
      "/en/news/tewatia-struggles-when-batting-early-unsure-over-attack-or-defence-sehwag-1651845382085\n",
      "/en/news/their-campaign-for-ipl-2022-is-over-rp-singh-on-mis-8-losses-in-9-games-1651844612785\n",
      "/en/news/kohli-was-set-to-break-tendulkars-record-but-now-bad-form-at-peak-latif-1651837203020\n",
      "/en/news/siraj-is-easily-excitable-unable-to-plan-as-per-the-situation-wv-raman-1651836864485\n",
      "/en/news/batting-at-no-4-for-gt-is-bringing-best-out-of-hardik-in-ipl-rajput-1651854331422\n",
      "/en/news/always-feels-great-to-perform-well-for-team-khaleel-on-his-330-vs-srh-1651844615409\n",
      "/en/news/surprised-mi-dropped-brevis-but-glad-they-went-back-to-david-vs-rr-pollock-1651837640874\n",
      "/en/news/mis-tilak-has-talent-temperament-to-play-for-winning-team-dasgupta-1651857814141\n",
      "/en/news/didnt-try-scoring-anything-but-a-single-vettori-on-kohlis-30-33-vs-csk-1651837410237\n",
      "/en/news/top-seed-djokovic-beats-hurkacz-to-enter-semis-at-madrid-open-1651857070179\n",
      "/en/news/wont-be-able-to-play-tests-if-i-dont-play-in-t20-blast-properly-archer-1651854046514\n",
      "/en/news/tunisias-jabeur-becomes-1st-arab-woman-to-reach-wta-1000-final-in-madrid-1651850121469\n",
      "/en/news/its-good-afi-president-sumariwalla-on-postponement-of-2022-asian-games-1651850335647\n",
      "/en/news/mccullum-likely-to-become-englands-next-whiteball-coach-reports-1651837421491\n",
      "/en/news/nobody-is-tough-anybody-is-beatable-sindhu-on-picking-her-hardest-opponent-1651858630412\n",
      "/en/news/i-always-say-that-nadal-has-1000-lives-jokes-world-no-9-alcaraz-1651844436114\n"
     ]
    }
   ],
   "source": [
    "# Let's try getting the links for each article\n",
    "\n",
    "# We can use find_all to get all news-card-title elements\n",
    "\n",
    "for card in soup.find_all('div', class_ = 'news-card-title'):\n",
    "    print(card.find('a')['href'])"
   ]
  },
  {
   "cell_type": "markdown",
   "id": "818d9e83-162c-4e43-a5bd-49ee64b54c77",
   "metadata": {},
   "source": [
    "These links on their own won't be very useful. We'll have to insert the base domain as well."
   ]
  },
  {
   "cell_type": "code",
   "execution_count": 119,
   "id": "e6504216-732e-4d8c-8a0c-41632d607f6b",
   "metadata": {},
   "outputs": [
    {
     "name": "stdout",
     "output_type": "stream",
     "text": [
      "https://inshorts.com/en/news/ranveer-singh-celebrates-rohit-sharmas-six-at-ipl-match-mi-share-pic-1651857768862\n",
      "https://inshorts.com/en/news/mi-hand-gt-their-2nd-loss-in-a-row-as-daniel-sams-defends-9-runs-in-last-over-1651860324419\n",
      "https://inshorts.com/en/news/he-began-to-cry-hadnt-eaten-lunch-for-a-year-coach-on-mis-kartikeyas-struggle-1651857780847\n",
      "https://inshorts.com/en/news/ben-stokes-records-most-sixes-in-a-firstclass-innings-in-england-1651850503390\n",
      "https://inshorts.com/en/news/tabletoppers-gt-to-bowl-first-against-bottomplaced-mi-playing-xis-announced-1651844543174\n",
      "https://inshorts.com/en/news/which-are-the-top-5-fastest-deliveries-in-ipl-history-1651839854470\n",
      "https://inshorts.com/en/news/ben-stokes-smashes-8-sixes-in-10-balls-in-county-match-1651842844868\n",
      "https://inshorts.com/en/news/pat-cummins-shares-pic-of-pav-bhaji-says-how-had-i-never-tried-it-before-1651846136205\n",
      "https://inshorts.com/en/news/sourav-ganguly-hosts-amit-shah-for-dinner-at-his-kolkata-residence-1651858146978\n",
      "https://inshorts.com/en/news/tewatia-struggles-when-batting-early-unsure-over-attack-or-defence-sehwag-1651845382085\n",
      "https://inshorts.com/en/news/their-campaign-for-ipl-2022-is-over-rp-singh-on-mis-8-losses-in-9-games-1651844612785\n",
      "https://inshorts.com/en/news/kohli-was-set-to-break-tendulkars-record-but-now-bad-form-at-peak-latif-1651837203020\n",
      "https://inshorts.com/en/news/siraj-is-easily-excitable-unable-to-plan-as-per-the-situation-wv-raman-1651836864485\n",
      "https://inshorts.com/en/news/batting-at-no-4-for-gt-is-bringing-best-out-of-hardik-in-ipl-rajput-1651854331422\n",
      "https://inshorts.com/en/news/always-feels-great-to-perform-well-for-team-khaleel-on-his-330-vs-srh-1651844615409\n",
      "https://inshorts.com/en/news/surprised-mi-dropped-brevis-but-glad-they-went-back-to-david-vs-rr-pollock-1651837640874\n",
      "https://inshorts.com/en/news/mis-tilak-has-talent-temperament-to-play-for-winning-team-dasgupta-1651857814141\n",
      "https://inshorts.com/en/news/didnt-try-scoring-anything-but-a-single-vettori-on-kohlis-30-33-vs-csk-1651837410237\n",
      "https://inshorts.com/en/news/top-seed-djokovic-beats-hurkacz-to-enter-semis-at-madrid-open-1651857070179\n",
      "https://inshorts.com/en/news/wont-be-able-to-play-tests-if-i-dont-play-in-t20-blast-properly-archer-1651854046514\n",
      "https://inshorts.com/en/news/tunisias-jabeur-becomes-1st-arab-woman-to-reach-wta-1000-final-in-madrid-1651850121469\n",
      "https://inshorts.com/en/news/its-good-afi-president-sumariwalla-on-postponement-of-2022-asian-games-1651850335647\n",
      "https://inshorts.com/en/news/mccullum-likely-to-become-englands-next-whiteball-coach-reports-1651837421491\n",
      "https://inshorts.com/en/news/nobody-is-tough-anybody-is-beatable-sindhu-on-picking-her-hardest-opponent-1651858630412\n",
      "https://inshorts.com/en/news/i-always-say-that-nadal-has-1000-lives-jokes-world-no-9-alcaraz-1651844436114\n"
     ]
    }
   ],
   "source": [
    "# Insert the base domain before the link we get from the href attribute\n",
    "\n",
    "for card in soup.find_all('div', class_ = 'news-card-title'):\n",
    "    print('https://inshorts.com' + card.find('a')['href'])"
   ]
  },
  {
   "cell_type": "markdown",
   "id": "fb693140-d053-431e-a708-e186f553cc67",
   "metadata": {},
   "source": [
    "Now we have good URLs. Let's put this in a function."
   ]
  },
  {
   "cell_type": "code",
   "execution_count": null,
   "id": "fb3f3748-dc80-4fee-bb00-9d71498bb123",
   "metadata": {},
   "outputs": [],
   "source": [
    "def a_function():\n",
    "    pass"
   ]
  }
 ],
 "metadata": {
  "kernelspec": {
   "display_name": "Python 3 (ipykernel)",
   "language": "python",
   "name": "python3"
  },
  "language_info": {
   "codemirror_mode": {
    "name": "ipython",
    "version": 3
   },
   "file_extension": ".py",
   "mimetype": "text/x-python",
   "name": "python",
   "nbconvert_exporter": "python",
   "pygments_lexer": "ipython3",
   "version": "3.9.7"
  }
 },
 "nbformat": 4,
 "nbformat_minor": 5
}
